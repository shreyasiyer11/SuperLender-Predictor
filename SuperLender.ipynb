{
  "nbformat": 4,
  "nbformat_minor": 0,
  "metadata": {
    "colab": {
      "name": "SuperLender.ipynb",
      "provenance": [],
      "collapsed_sections": []
    },
    "kernelspec": {
      "name": "python3",
      "display_name": "Python 3"
    },
    "language_info": {
      "name": "python"
    }
  },
  "cells": [
    {
      "cell_type": "markdown",
      "source": [
        "# **Business Problem - Loan Default Prediction**\n",
        "\n",
        "\n"
      ],
      "metadata": {
        "id": "bod7o4QC0l7u"
      }
    },
    {
      "cell_type": "markdown",
      "source": [
        "SuperLender is a local digital lending company. SuperLender wants to build machine learning model to lower the risk of loan default and deliver profitable and high-impact loan alternative. Now, try to predict if a loan was good or bad. This is binary classification business problem, where Good is 1 and Bad is 0.\n",
        "Source : https://zindi.africa/competitions/data-science-nigeria-challenge-1-loan-default-prediction\n",
        "\n",
        "We are not given the relative impact of false negatives (versus other outcomes). You are free to make your own assumptions. "
      ],
      "metadata": {
        "id": "kCKV-8vBky3n"
      }
    },
    {
      "cell_type": "markdown",
      "source": [
        "# **Executive Summary - BLUF**"
      ],
      "metadata": {
        "id": "ZBnuXaJhlYDh"
      }
    },
    {
      "cell_type": "markdown",
      "source": [
        "We find that most of the models have AUC and Accuracy ranging from 50-65%. Recall values averaged between 80-90%. The performance of all the models was found to be more or less the same, with the **logistic regression model minutely outperforming the others in terms of AUC, accuracy and ROC**. The model had an AUC of 0.63, accuracy of 0.75, and an ROC score of 0.62. However, we caveat that no model achieved a level of accuracy that would qualify them as a standalone tool for loan prediction. \n",
        "\n",
        "Analysis shows about 8% of the instances have propensities in the [0.3,0.7] range, but the misclassified instances vary across the classifiers.\n",
        "\n",
        "We reccommend that the lending company work with a more robust dataset that includes more predictors such as previous loan history etc. Additional data modelling tools will also need to be looked at in order to improve predictive accuracy. "
      ],
      "metadata": {
        "id": "8IGx-7t6lbZ4"
      }
    },
    {
      "cell_type": "markdown",
      "source": [
        "# **Data Description**"
      ],
      "metadata": {
        "id": "bEGQDE8Vkh9Q"
      }
    },
    {
      "cell_type": "markdown",
      "source": [
        "\n",
        "## a) Demographic data (traindemographics.csv)\n",
        "- **customerid** (Primary key used to merge to other data)\n",
        "- **birthdate** (date of birth of the customer)\n",
        "- **bank_account_type** (type of primary bank account)\n",
        "- **longitude_gps**\n",
        "- **latitude_gps**\n",
        "- **bank_name_clients** (name of the bank)\n",
        "- **bank_branch_clients** (location of the branch - not compulsory - so missing in a lot of the cases)\n",
        "- **employment_status_clients** (type of employment that customer has)\n",
        "- **level_of_education_clients** (highest level of education)\n",
        "\n",
        "## b) Performance data (trainperf.csv)\n",
        "- **customerid** (Primary key used to merge to other data)\n",
        "-**systemloanid** (The id associated with the particular loan. The same customerId can have multiple systemloanid’s for each loan he/she has taken out)\n",
        "- **loannumber** (The number of the loan that you have to predict)\n",
        "- **approveddate** (Date that loan was approved)\n",
        "- **creationdate** (Date that loan application was created)\n",
        "- **loanamount** (Loan value taken)\n",
        "- **totaldue** (Total repayment required to settle the loan - this is the capital loan value disbursed +interest and fees)\n",
        "- **termdays** (Term of loan)\n",
        "- **referredby** (customerId of the customer that referred this person - is missing, then not referred)\n",
        "- **good_bad_flag** (good = settled loan on time; bad = did not settled loan on time) - this is the target variable that we need to predict"
      ],
      "metadata": {
        "id": "k0FLWyuekoec"
      }
    },
    {
      "cell_type": "markdown",
      "source": [
        "# **Instruction** "
      ],
      "metadata": {
        "id": "BSU9PJ8U0qXU"
      }
    },
    {
      "cell_type": "markdown",
      "source": [
        "Using the data, and code from the M4 classification Python notebooks, and other resources, as appropriate:\n",
        "\n",
        "* Formulate a business problem that can be solved by classifiers, identify appropriate metrics to evaluate the suitability of a classifier solution for the business problem, stage a horse race of classifiers for the business problem, documenting your results, and determine if the classification results offer an appropriate solution to the business problem.\n",
        "\n",
        "* Summarize your findings and an action items in a few sentences at the end of the notebook (in a section titled “Conclusion”). Be sure to offer the Bottom Line Up Front (BLUF) at the start of the Conclusion.\n",
        "\n",
        "* Submit your notebook file on Blackboard, double checking that you have submitted the correct file.\n",
        "\n",
        "Download the **\"traindemographics.csv\"** and **\"trainperf.csv\"** dataset from the source. \n",
        "\n",
        "**Source** : https://zindi.africa/competitions/data-science-nigeria-challenge-1-loan-default-prediction/data\n",
        "Start the hackathon by running the code below. \n",
        "\n",
        "When you read the csv files from the google drive, locate the files under the given names. These two files will be merged. \n",
        "- **file_1** is **\"trainperf.csv\"**\n",
        "- **file_2** is **\"traindemographics.csv\"**"
      ],
      "metadata": {
        "id": "L8oc29-6k8_9"
      }
    },
    {
      "cell_type": "markdown",
      "source": [
        "# **Libraries**"
      ],
      "metadata": {
        "id": "9tqHGvutlHUB"
      }
    },
    {
      "cell_type": "code",
      "source": [
        "# Basic Libraries\n",
        "import pandas as pd\n",
        "import seaborn as sns\n",
        "\n",
        "import numpy as np\n",
        "from numpy import mean\n",
        "from numpy import std\n",
        "\n",
        "import matplotlib.pyplot as plt\n",
        "from matplotlib.colors import ListedColormap\n",
        "from scipy.stats.mstats import winsorize\n",
        "import scipy.stats as ss\n",
        "import math\n",
        "import seaborn as sns\n",
        "from datetime import datetime"
      ],
      "metadata": {
        "id": "cyYJzLFclKyq"
      },
      "execution_count": null,
      "outputs": []
    },
    {
      "cell_type": "code",
      "source": [
        "# Scikit learn\n",
        "from sklearn.model_selection import train_test_split\n",
        "from sklearn.preprocessing import StandardScaler\n",
        "from sklearn.linear_model import Perceptron\n",
        "from sklearn.naive_bayes import GaussianNB\n",
        "from sklearn.neighbors import KNeighborsClassifier\n",
        "from sklearn.svm import SVC\n",
        "from sklearn.tree import DecisionTreeClassifier\n",
        "from sklearn.linear_model import LogisticRegression\n",
        "from sklearn.neural_network import MLPClassifier\n",
        "from sklearn.ensemble import RandomForestClassifier\n",
        "from sklearn.ensemble import RandomForestClassifier\n",
        "from sklearn.pipeline import make_pipeline\n",
        "from sklearn.metrics import confusion_matrix\n",
        "from sklearn.metrics import classification_report\n",
        "from sklearn.metrics import roc_auc_score\n",
        "from sklearn.metrics import recall_score\n",
        "from sklearn.metrics import accuracy_score\n",
        "from sklearn.metrics import log_loss\n",
        "from sklearn.metrics import balanced_accuracy_score\n",
        "from sklearn.metrics import f1_score\n",
        "from sklearn.model_selection import cross_val_score\n",
        "from sklearn.pipeline import Pipeline\n",
        "from sklearn.model_selection import KFold\n",
        "from sklearn.model_selection import StratifiedKFold\n",
        "from sklearn.model_selection import RepeatedStratifiedKFold\n",
        "from sklearn.model_selection import learning_curve\n",
        "from sklearn.model_selection import GridSearchCV\n",
        "from xgboost import XGBClassifier"
      ],
      "metadata": {
        "id": "HnKiAXhfd3ml"
      },
      "execution_count": null,
      "outputs": []
    },
    {
      "cell_type": "code",
      "source": [
        "# LightGBM\n",
        "#!pip install lightgbm\n",
        "from lightgbm import LGBMClassifier"
      ],
      "metadata": {
        "id": "OWsqvBCONInQ"
      },
      "execution_count": null,
      "outputs": []
    },
    {
      "cell_type": "code",
      "source": [
        "# imblearn\n",
        "from imblearn.over_sampling import SMOTE\n",
        "from imblearn.pipeline import Pipeline as imbpipeline"
      ],
      "metadata": {
        "id": "FpFD8_EgNQ5L"
      },
      "execution_count": null,
      "outputs": []
    },
    {
      "cell_type": "markdown",
      "source": [
        "# **Read Dataset**"
      ],
      "metadata": {
        "id": "GJpZwy6zMRQ-"
      }
    },
    {
      "cell_type": "code",
      "source": [
        "# Mount drive\n",
        "from google.colab import drive\n",
        "drive.mount('/content/drive')"
      ],
      "metadata": {
        "colab": {
          "base_uri": "https://localhost:8080/"
        },
        "id": "_YSGxu9OTnjp",
        "outputId": "eb062946-db0f-4fa6-8ae7-7d83f4ff40f4"
      },
      "execution_count": null,
      "outputs": [
        {
          "output_type": "stream",
          "name": "stdout",
          "text": [
            "Drive already mounted at /content/drive; to attempt to forcibly remount, call drive.mount(\"/content/drive\", force_remount=True).\n"
          ]
        }
      ]
    },
    {
      "cell_type": "code",
      "execution_count": null,
      "metadata": {
        "id": "XqA_y5bN0k2R"
      },
      "outputs": [],
      "source": [
        "# Read two files \n",
        "file_1 = \"/content/drive/MyDrive/Colab Notebooks/trainperf.csv\"   # adapt this as needed to the file structure on your Google drive\n",
        "df1 = pd.read_csv(file_1) # read in csv file\n",
        "\n",
        "file_2= \"/content/drive/MyDrive/Colab Notebooks/traindemographics.csv\"   \n",
        "df2 = pd.read_csv(file_2) # read in csv file"
      ]
    },
    {
      "cell_type": "code",
      "source": [
        "# Merge two files using inner join\n",
        "result = pd.merge(df1, df2, how='inner', on='customerid')"
      ],
      "metadata": {
        "id": "k6uYYg988Jas"
      },
      "execution_count": null,
      "outputs": []
    },
    {
      "cell_type": "markdown",
      "source": [
        "# **EDA**"
      ],
      "metadata": {
        "id": "xl19aCF9DmMK"
      }
    },
    {
      "cell_type": "code",
      "source": [
        "result.head()"
      ],
      "metadata": {
        "id": "CJu36odWA-1i",
        "colab": {
          "base_uri": "https://localhost:8080/"
        },
        "outputId": "0a2ec418-4752-48eb-f231-d9bd991076b8"
      },
      "execution_count": null,
      "outputs": [
        {
          "output_type": "execute_result",
          "data": {
            "text/html": [
              "\n",
              "  <div id=\"df-c292cec9-3093-4beb-9e57-eb7bb3cdb488\">\n",
              "    <div class=\"colab-df-container\">\n",
              "      <div>\n",
              "<style scoped>\n",
              "    .dataframe tbody tr th:only-of-type {\n",
              "        vertical-align: middle;\n",
              "    }\n",
              "\n",
              "    .dataframe tbody tr th {\n",
              "        vertical-align: top;\n",
              "    }\n",
              "\n",
              "    .dataframe thead th {\n",
              "        text-align: right;\n",
              "    }\n",
              "</style>\n",
              "<table border=\"1\" class=\"dataframe\">\n",
              "  <thead>\n",
              "    <tr style=\"text-align: right;\">\n",
              "      <th></th>\n",
              "      <th>customerid</th>\n",
              "      <th>systemloanid</th>\n",
              "      <th>loannumber</th>\n",
              "      <th>approveddate</th>\n",
              "      <th>creationdate</th>\n",
              "      <th>loanamount</th>\n",
              "      <th>totaldue</th>\n",
              "      <th>termdays</th>\n",
              "      <th>referredby</th>\n",
              "      <th>good_bad_flag</th>\n",
              "      <th>birthdate</th>\n",
              "      <th>bank_account_type</th>\n",
              "      <th>longitude_gps</th>\n",
              "      <th>latitude_gps</th>\n",
              "      <th>bank_name_clients</th>\n",
              "      <th>bank_branch_clients</th>\n",
              "      <th>employment_status_clients</th>\n",
              "      <th>level_of_education_clients</th>\n",
              "    </tr>\n",
              "  </thead>\n",
              "  <tbody>\n",
              "    <tr>\n",
              "      <th>0</th>\n",
              "      <td>8a2a81a74ce8c05d014cfb32a0da1049</td>\n",
              "      <td>301994762</td>\n",
              "      <td>12</td>\n",
              "      <td>2017-07-25 08:22:56.000000</td>\n",
              "      <td>2017-07-25 07:22:47.000000</td>\n",
              "      <td>30000.0</td>\n",
              "      <td>34500.0</td>\n",
              "      <td>30</td>\n",
              "      <td>NaN</td>\n",
              "      <td>Good</td>\n",
              "      <td>1972-01-15 00:00:00.000000</td>\n",
              "      <td>Other</td>\n",
              "      <td>3.432010</td>\n",
              "      <td>6.433055</td>\n",
              "      <td>Diamond Bank</td>\n",
              "      <td>NaN</td>\n",
              "      <td>Permanent</td>\n",
              "      <td>Post-Graduate</td>\n",
              "    </tr>\n",
              "    <tr>\n",
              "      <th>1</th>\n",
              "      <td>8a85886e54beabf90154c0a29ae757c0</td>\n",
              "      <td>301965204</td>\n",
              "      <td>2</td>\n",
              "      <td>2017-07-05 17:04:41.000000</td>\n",
              "      <td>2017-07-05 16:04:18.000000</td>\n",
              "      <td>15000.0</td>\n",
              "      <td>17250.0</td>\n",
              "      <td>30</td>\n",
              "      <td>NaN</td>\n",
              "      <td>Good</td>\n",
              "      <td>1985-08-23 00:00:00.000000</td>\n",
              "      <td>Savings</td>\n",
              "      <td>3.885298</td>\n",
              "      <td>7.320700</td>\n",
              "      <td>GT Bank</td>\n",
              "      <td>DUGBE,IBADAN</td>\n",
              "      <td>Permanent</td>\n",
              "      <td>Graduate</td>\n",
              "    </tr>\n",
              "    <tr>\n",
              "      <th>2</th>\n",
              "      <td>8a8588f35438fe12015444567666018e</td>\n",
              "      <td>301966580</td>\n",
              "      <td>7</td>\n",
              "      <td>2017-07-06 14:52:57.000000</td>\n",
              "      <td>2017-07-06 13:52:51.000000</td>\n",
              "      <td>20000.0</td>\n",
              "      <td>22250.0</td>\n",
              "      <td>15</td>\n",
              "      <td>NaN</td>\n",
              "      <td>Good</td>\n",
              "      <td>1984-09-18 00:00:00.000000</td>\n",
              "      <td>Other</td>\n",
              "      <td>11.139350</td>\n",
              "      <td>10.292041</td>\n",
              "      <td>EcoBank</td>\n",
              "      <td>NaN</td>\n",
              "      <td>Permanent</td>\n",
              "      <td>NaN</td>\n",
              "    </tr>\n",
              "    <tr>\n",
              "      <th>3</th>\n",
              "      <td>8a85890754145ace015429211b513e16</td>\n",
              "      <td>301999343</td>\n",
              "      <td>3</td>\n",
              "      <td>2017-07-27 19:00:41.000000</td>\n",
              "      <td>2017-07-27 18:00:35.000000</td>\n",
              "      <td>10000.0</td>\n",
              "      <td>11500.0</td>\n",
              "      <td>15</td>\n",
              "      <td>NaN</td>\n",
              "      <td>Good</td>\n",
              "      <td>1977-10-10 00:00:00.000000</td>\n",
              "      <td>Savings</td>\n",
              "      <td>3.985770</td>\n",
              "      <td>7.491708</td>\n",
              "      <td>First Bank</td>\n",
              "      <td>NaN</td>\n",
              "      <td>Permanent</td>\n",
              "      <td>NaN</td>\n",
              "    </tr>\n",
              "    <tr>\n",
              "      <th>4</th>\n",
              "      <td>8a858970548359cc0154883481981866</td>\n",
              "      <td>301962360</td>\n",
              "      <td>9</td>\n",
              "      <td>2017-07-03 23:42:45.000000</td>\n",
              "      <td>2017-07-03 22:42:39.000000</td>\n",
              "      <td>40000.0</td>\n",
              "      <td>44000.0</td>\n",
              "      <td>30</td>\n",
              "      <td>NaN</td>\n",
              "      <td>Good</td>\n",
              "      <td>1986-09-07 00:00:00.000000</td>\n",
              "      <td>Other</td>\n",
              "      <td>7.457913</td>\n",
              "      <td>9.076574</td>\n",
              "      <td>GT Bank</td>\n",
              "      <td>NaN</td>\n",
              "      <td>Permanent</td>\n",
              "      <td>Primary</td>\n",
              "    </tr>\n",
              "  </tbody>\n",
              "</table>\n",
              "</div>\n",
              "      <button class=\"colab-df-convert\" onclick=\"convertToInteractive('df-c292cec9-3093-4beb-9e57-eb7bb3cdb488')\"\n",
              "              title=\"Convert this dataframe to an interactive table.\"\n",
              "              style=\"display:none;\">\n",
              "        \n",
              "  <svg xmlns=\"http://www.w3.org/2000/svg\" height=\"24px\"viewBox=\"0 0 24 24\"\n",
              "       width=\"24px\">\n",
              "    <path d=\"M0 0h24v24H0V0z\" fill=\"none\"/>\n",
              "    <path d=\"M18.56 5.44l.94 2.06.94-2.06 2.06-.94-2.06-.94-.94-2.06-.94 2.06-2.06.94zm-11 1L8.5 8.5l.94-2.06 2.06-.94-2.06-.94L8.5 2.5l-.94 2.06-2.06.94zm10 10l.94 2.06.94-2.06 2.06-.94-2.06-.94-.94-2.06-.94 2.06-2.06.94z\"/><path d=\"M17.41 7.96l-1.37-1.37c-.4-.4-.92-.59-1.43-.59-.52 0-1.04.2-1.43.59L10.3 9.45l-7.72 7.72c-.78.78-.78 2.05 0 2.83L4 21.41c.39.39.9.59 1.41.59.51 0 1.02-.2 1.41-.59l7.78-7.78 2.81-2.81c.8-.78.8-2.07 0-2.86zM5.41 20L4 18.59l7.72-7.72 1.47 1.35L5.41 20z\"/>\n",
              "  </svg>\n",
              "      </button>\n",
              "      \n",
              "  <style>\n",
              "    .colab-df-container {\n",
              "      display:flex;\n",
              "      flex-wrap:wrap;\n",
              "      gap: 12px;\n",
              "    }\n",
              "\n",
              "    .colab-df-convert {\n",
              "      background-color: #E8F0FE;\n",
              "      border: none;\n",
              "      border-radius: 50%;\n",
              "      cursor: pointer;\n",
              "      display: none;\n",
              "      fill: #1967D2;\n",
              "      height: 32px;\n",
              "      padding: 0 0 0 0;\n",
              "      width: 32px;\n",
              "    }\n",
              "\n",
              "    .colab-df-convert:hover {\n",
              "      background-color: #E2EBFA;\n",
              "      box-shadow: 0px 1px 2px rgba(60, 64, 67, 0.3), 0px 1px 3px 1px rgba(60, 64, 67, 0.15);\n",
              "      fill: #174EA6;\n",
              "    }\n",
              "\n",
              "    [theme=dark] .colab-df-convert {\n",
              "      background-color: #3B4455;\n",
              "      fill: #D2E3FC;\n",
              "    }\n",
              "\n",
              "    [theme=dark] .colab-df-convert:hover {\n",
              "      background-color: #434B5C;\n",
              "      box-shadow: 0px 1px 3px 1px rgba(0, 0, 0, 0.15);\n",
              "      filter: drop-shadow(0px 1px 2px rgba(0, 0, 0, 0.3));\n",
              "      fill: #FFFFFF;\n",
              "    }\n",
              "  </style>\n",
              "\n",
              "      <script>\n",
              "        const buttonEl =\n",
              "          document.querySelector('#df-c292cec9-3093-4beb-9e57-eb7bb3cdb488 button.colab-df-convert');\n",
              "        buttonEl.style.display =\n",
              "          google.colab.kernel.accessAllowed ? 'block' : 'none';\n",
              "\n",
              "        async function convertToInteractive(key) {\n",
              "          const element = document.querySelector('#df-c292cec9-3093-4beb-9e57-eb7bb3cdb488');\n",
              "          const dataTable =\n",
              "            await google.colab.kernel.invokeFunction('convertToInteractive',\n",
              "                                                     [key], {});\n",
              "          if (!dataTable) return;\n",
              "\n",
              "          const docLinkHtml = 'Like what you see? Visit the ' +\n",
              "            '<a target=\"_blank\" href=https://colab.research.google.com/notebooks/data_table.ipynb>data table notebook</a>'\n",
              "            + ' to learn more about interactive tables.';\n",
              "          element.innerHTML = '';\n",
              "          dataTable['output_type'] = 'display_data';\n",
              "          await google.colab.output.renderOutput(dataTable, element);\n",
              "          const docLink = document.createElement('div');\n",
              "          docLink.innerHTML = docLinkHtml;\n",
              "          element.appendChild(docLink);\n",
              "        }\n",
              "      </script>\n",
              "    </div>\n",
              "  </div>\n",
              "  "
            ],
            "text/plain": [
              "                         customerid  ...  level_of_education_clients\n",
              "0  8a2a81a74ce8c05d014cfb32a0da1049  ...               Post-Graduate\n",
              "1  8a85886e54beabf90154c0a29ae757c0  ...                    Graduate\n",
              "2  8a8588f35438fe12015444567666018e  ...                         NaN\n",
              "3  8a85890754145ace015429211b513e16  ...                         NaN\n",
              "4  8a858970548359cc0154883481981866  ...                     Primary\n",
              "\n",
              "[5 rows x 18 columns]"
            ]
          },
          "metadata": {},
          "execution_count": 194
        }
      ]
    },
    {
      "cell_type": "code",
      "source": [
        "# customer ID and System ID are deleted, as they don't add information to the model\n",
        "# bank_branch_clients is deleted to reduce the # of features after encoding\n",
        "# loannumber, approveddate, creationdate, and referredby are deleted, as they don't add much value \n",
        "result = result.drop(columns=['customerid', 'systemloanid','bank_branch_clients','loannumber','approveddate','creationdate','referredby'])"
      ],
      "metadata": {
        "id": "IWgVtzCceXJe"
      },
      "execution_count": null,
      "outputs": []
    },
    {
      "cell_type": "code",
      "source": [
        "# Shape of df\n",
        "print(\"Shape\", result.shape)\n",
        "\n",
        "# Check data types\n",
        "print(result.info())"
      ],
      "metadata": {
        "id": "oGUGCgRr0uUI",
        "colab": {
          "base_uri": "https://localhost:8080/"
        },
        "outputId": "63b953dc-26d7-431f-9beb-b83d2cc03c7f"
      },
      "execution_count": null,
      "outputs": [
        {
          "output_type": "stream",
          "name": "stdout",
          "text": [
            "Shape (3277, 11)\n",
            "<class 'pandas.core.frame.DataFrame'>\n",
            "Int64Index: 3277 entries, 0 to 3276\n",
            "Data columns (total 11 columns):\n",
            " #   Column                      Non-Null Count  Dtype  \n",
            "---  ------                      --------------  -----  \n",
            " 0   loanamount                  3277 non-null   float64\n",
            " 1   totaldue                    3277 non-null   float64\n",
            " 2   termdays                    3277 non-null   int64  \n",
            " 3   good_bad_flag               3277 non-null   object \n",
            " 4   birthdate                   3277 non-null   object \n",
            " 5   bank_account_type           3277 non-null   object \n",
            " 6   longitude_gps               3277 non-null   float64\n",
            " 7   latitude_gps                3277 non-null   float64\n",
            " 8   bank_name_clients           3277 non-null   object \n",
            " 9   employment_status_clients   2784 non-null   object \n",
            " 10  level_of_education_clients  443 non-null    object \n",
            "dtypes: float64(4), int64(1), object(6)\n",
            "memory usage: 307.2+ KB\n",
            "None\n"
          ]
        }
      ]
    },
    {
      "cell_type": "code",
      "source": [
        "# Describe Dataset \n",
        "print(\"\\n DESCRIBE\\n\",result.describe())"
      ],
      "metadata": {
        "id": "uDhhuHqB00fa",
        "colab": {
          "base_uri": "https://localhost:8080/"
        },
        "outputId": "89456a60-2ac0-4b02-c628-c60b1c5716df"
      },
      "execution_count": null,
      "outputs": [
        {
          "output_type": "stream",
          "name": "stdout",
          "text": [
            "\n",
            " DESCRIBE\n",
            "          loanamount      totaldue     termdays  longitude_gps  latitude_gps\n",
            "count   3277.000000   3277.000000  3277.000000    3277.000000   3277.000000\n",
            "mean   17830.332621  21280.569271    29.258468       4.534611      7.292799\n",
            "std    10742.059352  11929.316405    11.405342       7.916626      3.268758\n",
            "min    10000.000000  10000.000000    15.000000    -118.247009    -33.868818\n",
            "25%    10000.000000  13000.000000    30.000000       3.354984      6.473645\n",
            "50%    10000.000000  13000.000000    30.000000       3.587546      6.625954\n",
            "75%    20000.000000  24500.000000    30.000000       6.478157      7.429882\n",
            "max    60000.000000  68100.000000    90.000000     151.209290     71.228069\n"
          ]
        }
      ]
    },
    {
      "cell_type": "code",
      "source": [
        "# Check Skewness\n",
        "print(\"\\n SKEWNESS\\n\",result.skew())"
      ],
      "metadata": {
        "id": "T8_y6Gu20134",
        "colab": {
          "base_uri": "https://localhost:8080/"
        },
        "outputId": "c70cff95-702e-438d-fef6-996e74c73e26"
      },
      "execution_count": null,
      "outputs": [
        {
          "output_type": "stream",
          "name": "stdout",
          "text": [
            "\n",
            " SKEWNESS\n",
            " loanamount       1.241791\n",
            "totaldue         1.154553\n",
            "termdays         1.875509\n",
            "longitude_gps   -3.211137\n",
            "latitude_gps     9.342461\n",
            "dtype: float64\n"
          ]
        },
        {
          "output_type": "stream",
          "name": "stderr",
          "text": [
            "/usr/local/lib/python3.7/dist-packages/ipykernel_launcher.py:2: FutureWarning: Dropping of nuisance columns in DataFrame reductions (with 'numeric_only=None') is deprecated; in a future version this will raise TypeError.  Select only valid columns before calling the reduction.\n",
            "  \n"
          ]
        }
      ]
    },
    {
      "cell_type": "code",
      "source": [
        "# Check Kurtosis\n",
        "print(\"\\n kurtosis\\n\",result.kurtosis())"
      ],
      "metadata": {
        "id": "7-Q6tsXCD78I",
        "colab": {
          "base_uri": "https://localhost:8080/"
        },
        "outputId": "3d847fe1-1281-4d6b-a970-67066e4674e0"
      },
      "execution_count": null,
      "outputs": [
        {
          "output_type": "stream",
          "name": "stdout",
          "text": [
            "\n",
            " kurtosis\n",
            " loanamount         0.620163\n",
            "totaldue           0.283694\n",
            "termdays           6.226940\n",
            "longitude_gps    166.777991\n",
            "latitude_gps     143.510897\n",
            "dtype: float64\n"
          ]
        },
        {
          "output_type": "stream",
          "name": "stderr",
          "text": [
            "/usr/local/lib/python3.7/dist-packages/ipykernel_launcher.py:2: FutureWarning: Dropping of nuisance columns in DataFrame reductions (with 'numeric_only=None') is deprecated; in a future version this will raise TypeError.  Select only valid columns before calling the reduction.\n",
            "  \n"
          ]
        }
      ]
    },
    {
      "cell_type": "code",
      "source": [
        "# Multivariate numerical descriptive statistics\n",
        "\n",
        "#Correlation Matrix\n",
        "print(\"CORRELATION MATRIX\\n\",result.corr())\n",
        "print(\"\\n\\n\")\n",
        "\n",
        "#Correlation Matrix as a Heatmap\n",
        "sns.set_style('darkgrid')\n",
        "plt.figure(figsize = (10,5))\n",
        "cmap = sns.diverging_palette(120, 10, l = 40, s = 99, sep = 20, center = 'light', as_cmap = True) \n",
        "sns.heatmap((result).corr(), vmin = -1, vmax = 1, annot = True, cmap = cmap, lw = .5, linecolor = 'white')\n",
        "plt.title(\"Dataset Correlation Heatmap\")\n",
        "plt.show()\n",
        "\n",
        "# Covariance Matrix\n",
        "print(\"\\n\\nCOVARIANCE MATRIX\\n\",result.cov())\n",
        "print(\"\\n\\n\")\n",
        "\n",
        "#Covariance Matrix as a Heatmap\n",
        "sns.set_style('darkgrid')\n",
        "plt.figure(figsize = (10,5))\n",
        "cmap = sns.diverging_palette(220, 20, l = 40, s = 99, sep = 20, center = 'light', as_cmap = True) \n",
        "sns.heatmap((result).cov(), vmin = -0.5, vmax = 3.5, annot = True, cmap = cmap, lw = .5, linecolor = 'white')\n",
        "plt.title(\"Dataset Covariance Heatmap\")\n",
        "plt.show()"
      ],
      "metadata": {
        "id": "Zr39MHjn03HG",
        "colab": {
          "base_uri": "https://localhost:8080/"
        },
        "outputId": "b109139c-9a61-475d-fd36-5cb8f1bdf29b"
      },
      "execution_count": null,
      "outputs": [
        {
          "output_type": "stream",
          "name": "stdout",
          "text": [
            "CORRELATION MATRIX\n",
            "                loanamount  totaldue  termdays  longitude_gps  latitude_gps\n",
            "loanamount       1.000000  0.994311  0.551188      -0.001301      0.010006\n",
            "totaldue         0.994311  1.000000  0.621356      -0.001766      0.007852\n",
            "termdays         0.551188  0.621356  1.000000       0.003204     -0.008003\n",
            "longitude_gps   -0.001301 -0.001766  0.003204       1.000000     -0.253237\n",
            "latitude_gps     0.010006  0.007852 -0.008003      -0.253237      1.000000\n",
            "\n",
            "\n",
            "\n"
          ]
        },
        {
          "output_type": "display_data",
          "data": {
            "image/png": "[encoded data removed]",
            "text/plain": [
              "<Figure size 720x360 with 2 Axes>"
            ]
          },
          "metadata": {}
        },
        {
          "output_type": "stream",
          "name": "stdout",
          "text": [
            "\n",
            "\n",
            "COVARIANCE MATRIX\n",
            "                  loanamount      totaldue  ...  longitude_gps  latitude_gps\n",
            "loanamount     1.153918e+08  1.274164e+08  ...    -110.676598    351.352890\n",
            "totaldue       1.274164e+08  1.423086e+08  ...    -166.802134    306.162404\n",
            "termdays       6.752983e+04  8.454043e+04  ...       0.289317     -0.298350\n",
            "longitude_gps -1.106766e+02 -1.668021e+02  ...      62.672963     -6.553162\n",
            "latitude_gps   3.513529e+02  3.061624e+02  ...      -6.553162     10.684782\n",
            "\n",
            "[5 rows x 5 columns]\n",
            "\n",
            "\n",
            "\n"
          ]
        },
        {
          "output_type": "display_data",
          "data": {
            "image/png": "[encoded data removed]",
            "text/plain": [
              "<Figure size 720x360 with 2 Axes>"
            ]
          },
          "metadata": {}
        }
      ]
    },
    {
      "cell_type": "markdown",
      "source": [
        "#**Encoding**"
      ],
      "metadata": {
        "id": "gJXSyqCQVmed"
      }
    },
    {
      "cell_type": "code",
      "source": [
        "# Encode categorical target variable \n",
        "good_bad_flag_mapping = {'Good': 1,\n",
        "                         'Bad' : 0}\n",
        "result['good_bad_flag'] = result['good_bad_flag'].map(good_bad_flag_mapping)\n",
        "print('Label-encoded good_bad_flag:\\n',result['good_bad_flag'],\"\\n\\n\")"
      ],
      "metadata": {
        "id": "JOV3qtiY07xw",
        "colab": {
          "base_uri": "https://localhost:8080/"
        },
        "outputId": "05edb9fd-f88c-4f90-9fd7-aeba4e5d0f91"
      },
      "execution_count": null,
      "outputs": [
        {
          "output_type": "stream",
          "name": "stdout",
          "text": [
            "Label-encoded good_bad_flag:\n",
            " 0       1\n",
            "1       1\n",
            "2       1\n",
            "3       1\n",
            "4       1\n",
            "       ..\n",
            "3272    0\n",
            "3273    0\n",
            "3274    0\n",
            "3275    0\n",
            "3276    0\n",
            "Name: good_bad_flag, Length: 3277, dtype: int64 \n",
            "\n",
            "\n"
          ]
        }
      ]
    },
    {
      "cell_type": "code",
      "source": [
        "# Count good and bad \n",
        "result[\"good_bad_flag\"].value_counts().plot.bar()\n",
        "result[\"good_bad_flag\"].value_counts()"
      ],
      "metadata": {
        "id": "ccmT_ml_09Rc",
        "colab": {
          "base_uri": "https://localhost:8080/"
        },
        "outputId": "e2ea4f49-b49e-4641-c334-b7d6b2c42238"
      },
      "execution_count": null,
      "outputs": [
        {
          "output_type": "execute_result",
          "data": {
            "text/plain": [
              "1    2563\n",
              "0     714\n",
              "Name: good_bad_flag, dtype: int64"
            ]
          },
          "metadata": {},
          "execution_count": 202
        },
        {
          "output_type": "display_data",
          "data": {
            "image/png": "[encoded data removed]",
            "text/plain": [
              "<Figure size 432x288 with 1 Axes>"
            ]
          },
          "metadata": {}
        }
      ]
    },
    {
      "cell_type": "code",
      "source": [
        "# rename less frequent categories of bank_name_clients to 'Other'\n",
        "need = result['bank_name_clients'].value_counts().index[:2]\n",
        "result['bank_name_clients'] = np.where(result['bank_name_clients'].isin(need), result['bank_name_clients'], 'OTHER')\n",
        "\n",
        "valCount = result['bank_name_clients'].value_counts()\n",
        "print (valCount)"
      ],
      "metadata": {
        "id": "Wwea9IREjVfD",
        "colab": {
          "base_uri": "https://localhost:8080/"
        },
        "outputId": "23509569-d211-4210-a34e-198468fe2252"
      },
      "execution_count": null,
      "outputs": [
        {
          "output_type": "stream",
          "name": "stdout",
          "text": [
            "OTHER         1637\n",
            "GT Bank       1210\n",
            "First Bank     430\n",
            "Name: bank_name_clients, dtype: int64\n"
          ]
        }
      ]
    },
    {
      "cell_type": "code",
      "source": [
        "# Univariate Bar Charts\n",
        "\n",
        "plt.figure(figsize = (30,6))\n",
        "plt.subplot(1,2,1)\n",
        "sns.countplot(  x=\"bank_name_clients\", data=result,palette=\"light:m_r\",\n",
        "    edgecolor=\".3\")\n",
        "plt.show()"
      ],
      "metadata": {
        "id": "DLXAtVrTXUPl",
        "colab": {
          "base_uri": "https://localhost:8080/"
        },
        "outputId": "d208589e-3dd3-42f2-aa81-200fdadeb2c1"
      },
      "execution_count": null,
      "outputs": [
        {
          "output_type": "display_data",
          "data": {
            "image/png": "[encoded data removed]",
            "text/plain": [
              "<Figure size 2160x432 with 1 Axes>"
            ]
          },
          "metadata": {}
        }
      ]
    },
    {
      "cell_type": "code",
      "source": [
        "# rename less frequent categories of employment_status_clients to 'Other'\n",
        "need = result['employment_status_clients'].value_counts().index[:3]\n",
        "result['employment_status_clients'] = np.where(result['employment_status_clients'].isin(need), result['employment_status_clients'], 'OTHER')\n",
        "\n",
        "valCount = result['employment_status_clients'].value_counts()\n",
        "print (valCount)"
      ],
      "metadata": {
        "id": "WfgA_xPeOapu",
        "colab": {
          "base_uri": "https://localhost:8080/"
        },
        "outputId": "6c6b8843-c419-476b-e603-a0b811e1724d"
      },
      "execution_count": null,
      "outputs": [
        {
          "output_type": "stream",
          "name": "stdout",
          "text": [
            "Permanent        2348\n",
            "OTHER             541\n",
            "Self-Employed     277\n",
            "Student           111\n",
            "Name: employment_status_clients, dtype: int64\n"
          ]
        }
      ]
    },
    {
      "cell_type": "code",
      "source": [
        "# Univariate Bar Charts\n",
        "\n",
        "plt.figure(figsize = (30,6))\n",
        "plt.subplot(1,2,2)\n",
        "sns.countplot(  x=\"employment_status_clients\", data=result,palette=\"light:m_r\",\n",
        "    edgecolor=\".3\")\n",
        "plt.show()"
      ],
      "metadata": {
        "id": "FY09DpdBnRrw",
        "colab": {
          "base_uri": "https://localhost:8080/"
        },
        "outputId": "f13689ff-6fad-46b8-ada5-ffe84c303a61"
      },
      "execution_count": null,
      "outputs": [
        {
          "output_type": "display_data",
          "data": {
            "image/png": "[encoded data removed]",
            "text/plain": [
              "<Figure size 2160x432 with 1 Axes>"
            ]
          },
          "metadata": {}
        }
      ]
    },
    {
      "cell_type": "code",
      "source": [
        "# Univariate Bar Charts\n",
        "\n",
        "plt.figure(figsize = (30,6))\n",
        "plt.subplot(1,2,2)\n",
        "sns.countplot(  x=\"level_of_education_clients\", data=result,palette=\"light:m_r\",\n",
        "    edgecolor=\".3\")\n",
        "plt.show()"
      ],
      "metadata": {
        "id": "ZJx8_gddbEe0",
        "colab": {
          "base_uri": "https://localhost:8080/"
        },
        "outputId": "83e07462-2a3c-41b8-baac-e6e2541bb0d0"
      },
      "execution_count": null,
      "outputs": [
        {
          "output_type": "display_data",
          "data": {
            "image/png": "[encoded data removed]",
            "text/plain": [
              "<Figure size 2160x432 with 1 Axes>"
            ]
          },
          "metadata": {}
        }
      ]
    },
    {
      "cell_type": "code",
      "source": [
        "# Univariate Bar Charts\n",
        "\n",
        "plt.figure(figsize = (30,6))\n",
        "plt.subplot(1,2,2)\n",
        "sns.countplot(  x=\"bank_account_type\", data=result,palette=\"light:m_r\",\n",
        "    edgecolor=\".3\")\n",
        "plt.show()"
      ],
      "metadata": {
        "id": "1J-NOTzsYY8z",
        "colab": {
          "base_uri": "https://localhost:8080/"
        },
        "outputId": "06f29d43-b766-41fc-ee48-ee3ab35ea118"
      },
      "execution_count": null,
      "outputs": [
        {
          "output_type": "display_data",
          "data": {
            "image/png": "[encoded data removed]",
            "text/plain": [
              "<Figure size 2160x432 with 1 Axes>"
            ]
          },
          "metadata": {}
        }
      ]
    },
    {
      "cell_type": "code",
      "source": [
        "# change birthday to age. New column age is created\n",
        "import pandas as pd\n",
        "from datetime import datetime, date\n",
        "\n",
        "  \n",
        "# This function converts given date to age\n",
        "def age(born):\n",
        "    born = datetime.strptime(born, '%Y-%m-%d %H:%M:%S.%f').date()\n",
        "    today = date.today()\n",
        "    return today.year - born.year - ((today.month, \n",
        "                                      today.day) < (born.month, \n",
        "                                                    born.day))\n",
        "  \n",
        "result['Age'] = result['birthdate'].apply(age)\n",
        "  \n",
        "display(result)"
      ],
      "metadata": {
        "id": "7khFFWhMhAMu",
        "colab": {
          "base_uri": "https://localhost:8080/"
        },
        "outputId": "7b2ffc5f-9ddb-44d8-96d9-f6f1eb1605a0"
      },
      "execution_count": null,
      "outputs": [
        {
          "output_type": "display_data",
          "data": {
            "text/html": [
              "\n",
              "  <div id=\"df-bacbfa73-41a8-408b-bde0-9e6f5c427a0c\">\n",
              "    <div class=\"colab-df-container\">\n",
              "      <div>\n",
              "<style scoped>\n",
              "    .dataframe tbody tr th:only-of-type {\n",
              "        vertical-align: middle;\n",
              "    }\n",
              "\n",
              "    .dataframe tbody tr th {\n",
              "        vertical-align: top;\n",
              "    }\n",
              "\n",
              "    .dataframe thead th {\n",
              "        text-align: right;\n",
              "    }\n",
              "</style>\n",
              "<table border=\"1\" class=\"dataframe\">\n",
              "  <thead>\n",
              "    <tr style=\"text-align: right;\">\n",
              "      <th></th>\n",
              "      <th>loanamount</th>\n",
              "      <th>totaldue</th>\n",
              "      <th>termdays</th>\n",
              "      <th>good_bad_flag</th>\n",
              "      <th>birthdate</th>\n",
              "      <th>bank_account_type</th>\n",
              "      <th>longitude_gps</th>\n",
              "      <th>latitude_gps</th>\n",
              "      <th>bank_name_clients</th>\n",
              "      <th>employment_status_clients</th>\n",
              "      <th>level_of_education_clients</th>\n",
              "      <th>Age</th>\n",
              "    </tr>\n",
              "  </thead>\n",
              "  <tbody>\n",
              "    <tr>\n",
              "      <th>0</th>\n",
              "      <td>30000.0</td>\n",
              "      <td>34500.0</td>\n",
              "      <td>30</td>\n",
              "      <td>1</td>\n",
              "      <td>1972-01-15 00:00:00.000000</td>\n",
              "      <td>Other</td>\n",
              "      <td>3.432010</td>\n",
              "      <td>6.433055</td>\n",
              "      <td>OTHER</td>\n",
              "      <td>Permanent</td>\n",
              "      <td>Post-Graduate</td>\n",
              "      <td>50</td>\n",
              "    </tr>\n",
              "    <tr>\n",
              "      <th>1</th>\n",
              "      <td>15000.0</td>\n",
              "      <td>17250.0</td>\n",
              "      <td>30</td>\n",
              "      <td>1</td>\n",
              "      <td>1985-08-23 00:00:00.000000</td>\n",
              "      <td>Savings</td>\n",
              "      <td>3.885298</td>\n",
              "      <td>7.320700</td>\n",
              "      <td>GT Bank</td>\n",
              "      <td>Permanent</td>\n",
              "      <td>Graduate</td>\n",
              "      <td>36</td>\n",
              "    </tr>\n",
              "    <tr>\n",
              "      <th>2</th>\n",
              "      <td>20000.0</td>\n",
              "      <td>22250.0</td>\n",
              "      <td>15</td>\n",
              "      <td>1</td>\n",
              "      <td>1984-09-18 00:00:00.000000</td>\n",
              "      <td>Other</td>\n",
              "      <td>11.139350</td>\n",
              "      <td>10.292041</td>\n",
              "      <td>OTHER</td>\n",
              "      <td>Permanent</td>\n",
              "      <td>NaN</td>\n",
              "      <td>37</td>\n",
              "    </tr>\n",
              "    <tr>\n",
              "      <th>3</th>\n",
              "      <td>10000.0</td>\n",
              "      <td>11500.0</td>\n",
              "      <td>15</td>\n",
              "      <td>1</td>\n",
              "      <td>1977-10-10 00:00:00.000000</td>\n",
              "      <td>Savings</td>\n",
              "      <td>3.985770</td>\n",
              "      <td>7.491708</td>\n",
              "      <td>First Bank</td>\n",
              "      <td>Permanent</td>\n",
              "      <td>NaN</td>\n",
              "      <td>44</td>\n",
              "    </tr>\n",
              "    <tr>\n",
              "      <th>4</th>\n",
              "      <td>40000.0</td>\n",
              "      <td>44000.0</td>\n",
              "      <td>30</td>\n",
              "      <td>1</td>\n",
              "      <td>1986-09-07 00:00:00.000000</td>\n",
              "      <td>Other</td>\n",
              "      <td>7.457913</td>\n",
              "      <td>9.076574</td>\n",
              "      <td>GT Bank</td>\n",
              "      <td>Permanent</td>\n",
              "      <td>Primary</td>\n",
              "      <td>35</td>\n",
              "    </tr>\n",
              "    <tr>\n",
              "      <th>...</th>\n",
              "      <td>...</td>\n",
              "      <td>...</td>\n",
              "      <td>...</td>\n",
              "      <td>...</td>\n",
              "      <td>...</td>\n",
              "      <td>...</td>\n",
              "      <td>...</td>\n",
              "      <td>...</td>\n",
              "      <td>...</td>\n",
              "      <td>...</td>\n",
              "      <td>...</td>\n",
              "      <td>...</td>\n",
              "    </tr>\n",
              "    <tr>\n",
              "      <th>3272</th>\n",
              "      <td>10000.0</td>\n",
              "      <td>11500.0</td>\n",
              "      <td>15</td>\n",
              "      <td>0</td>\n",
              "      <td>1979-03-22 00:00:00.000000</td>\n",
              "      <td>Savings</td>\n",
              "      <td>3.302387</td>\n",
              "      <td>6.568690</td>\n",
              "      <td>GT Bank</td>\n",
              "      <td>OTHER</td>\n",
              "      <td>NaN</td>\n",
              "      <td>42</td>\n",
              "    </tr>\n",
              "    <tr>\n",
              "      <th>3273</th>\n",
              "      <td>10000.0</td>\n",
              "      <td>13000.0</td>\n",
              "      <td>30</td>\n",
              "      <td>0</td>\n",
              "      <td>1989-12-04 00:00:00.000000</td>\n",
              "      <td>Savings</td>\n",
              "      <td>4.607358</td>\n",
              "      <td>8.460608</td>\n",
              "      <td>OTHER</td>\n",
              "      <td>Permanent</td>\n",
              "      <td>NaN</td>\n",
              "      <td>32</td>\n",
              "    </tr>\n",
              "    <tr>\n",
              "      <th>3274</th>\n",
              "      <td>10000.0</td>\n",
              "      <td>11500.0</td>\n",
              "      <td>15</td>\n",
              "      <td>0</td>\n",
              "      <td>1989-11-21 00:00:00.000000</td>\n",
              "      <td>Savings</td>\n",
              "      <td>3.976842</td>\n",
              "      <td>7.409129</td>\n",
              "      <td>First Bank</td>\n",
              "      <td>Permanent</td>\n",
              "      <td>NaN</td>\n",
              "      <td>32</td>\n",
              "    </tr>\n",
              "    <tr>\n",
              "      <th>3275</th>\n",
              "      <td>10000.0</td>\n",
              "      <td>13000.0</td>\n",
              "      <td>30</td>\n",
              "      <td>0</td>\n",
              "      <td>1990-06-11 00:00:00.000000</td>\n",
              "      <td>Savings</td>\n",
              "      <td>3.986089</td>\n",
              "      <td>7.386796</td>\n",
              "      <td>OTHER</td>\n",
              "      <td>Permanent</td>\n",
              "      <td>NaN</td>\n",
              "      <td>31</td>\n",
              "    </tr>\n",
              "    <tr>\n",
              "      <th>3276</th>\n",
              "      <td>30000.0</td>\n",
              "      <td>34500.0</td>\n",
              "      <td>30</td>\n",
              "      <td>0</td>\n",
              "      <td>1988-08-16 00:00:00.000000</td>\n",
              "      <td>Savings</td>\n",
              "      <td>3.725655</td>\n",
              "      <td>6.474430</td>\n",
              "      <td>GT Bank</td>\n",
              "      <td>OTHER</td>\n",
              "      <td>NaN</td>\n",
              "      <td>33</td>\n",
              "    </tr>\n",
              "  </tbody>\n",
              "</table>\n",
              "<p>3277 rows × 12 columns</p>\n",
              "</div>\n",
              "      <button class=\"colab-df-convert\" onclick=\"convertToInteractive('df-bacbfa73-41a8-408b-bde0-9e6f5c427a0c')\"\n",
              "              title=\"Convert this dataframe to an interactive table.\"\n",
              "              style=\"display:none;\">\n",
              "        \n",
              "  <svg xmlns=\"http://www.w3.org/2000/svg\" height=\"24px\"viewBox=\"0 0 24 24\"\n",
              "       width=\"24px\">\n",
              "    <path d=\"M0 0h24v24H0V0z\" fill=\"none\"/>\n",
              "    <path d=\"M18.56 5.44l.94 2.06.94-2.06 2.06-.94-2.06-.94-.94-2.06-.94 2.06-2.06.94zm-11 1L8.5 8.5l.94-2.06 2.06-.94-2.06-.94L8.5 2.5l-.94 2.06-2.06.94zm10 10l.94 2.06.94-2.06 2.06-.94-2.06-.94-.94-2.06-.94 2.06-2.06.94z\"/><path d=\"M17.41 7.96l-1.37-1.37c-.4-.4-.92-.59-1.43-.59-.52 0-1.04.2-1.43.59L10.3 9.45l-7.72 7.72c-.78.78-.78 2.05 0 2.83L4 21.41c.39.39.9.59 1.41.59.51 0 1.02-.2 1.41-.59l7.78-7.78 2.81-2.81c.8-.78.8-2.07 0-2.86zM5.41 20L4 18.59l7.72-7.72 1.47 1.35L5.41 20z\"/>\n",
              "  </svg>\n",
              "      </button>\n",
              "      \n",
              "  <style>\n",
              "    .colab-df-container {\n",
              "      display:flex;\n",
              "      flex-wrap:wrap;\n",
              "      gap: 12px;\n",
              "    }\n",
              "\n",
              "    .colab-df-convert {\n",
              "      background-color: #E8F0FE;\n",
              "      border: none;\n",
              "      border-radius: 50%;\n",
              "      cursor: pointer;\n",
              "      display: none;\n",
              "      fill: #1967D2;\n",
              "      height: 32px;\n",
              "      padding: 0 0 0 0;\n",
              "      width: 32px;\n",
              "    }\n",
              "\n",
              "    .colab-df-convert:hover {\n",
              "      background-color: #E2EBFA;\n",
              "      box-shadow: 0px 1px 2px rgba(60, 64, 67, 0.3), 0px 1px 3px 1px rgba(60, 64, 67, 0.15);\n",
              "      fill: #174EA6;\n",
              "    }\n",
              "\n",
              "    [theme=dark] .colab-df-convert {\n",
              "      background-color: #3B4455;\n",
              "      fill: #D2E3FC;\n",
              "    }\n",
              "\n",
              "    [theme=dark] .colab-df-convert:hover {\n",
              "      background-color: #434B5C;\n",
              "      box-shadow: 0px 1px 3px 1px rgba(0, 0, 0, 0.15);\n",
              "      filter: drop-shadow(0px 1px 2px rgba(0, 0, 0, 0.3));\n",
              "      fill: #FFFFFF;\n",
              "    }\n",
              "  </style>\n",
              "\n",
              "      <script>\n",
              "        const buttonEl =\n",
              "          document.querySelector('#df-bacbfa73-41a8-408b-bde0-9e6f5c427a0c button.colab-df-convert');\n",
              "        buttonEl.style.display =\n",
              "          google.colab.kernel.accessAllowed ? 'block' : 'none';\n",
              "\n",
              "        async function convertToInteractive(key) {\n",
              "          const element = document.querySelector('#df-bacbfa73-41a8-408b-bde0-9e6f5c427a0c');\n",
              "          const dataTable =\n",
              "            await google.colab.kernel.invokeFunction('convertToInteractive',\n",
              "                                                     [key], {});\n",
              "          if (!dataTable) return;\n",
              "\n",
              "          const docLinkHtml = 'Like what you see? Visit the ' +\n",
              "            '<a target=\"_blank\" href=https://colab.research.google.com/notebooks/data_table.ipynb>data table notebook</a>'\n",
              "            + ' to learn more about interactive tables.';\n",
              "          element.innerHTML = '';\n",
              "          dataTable['output_type'] = 'display_data';\n",
              "          await google.colab.output.renderOutput(dataTable, element);\n",
              "          const docLink = document.createElement('div');\n",
              "          docLink.innerHTML = docLinkHtml;\n",
              "          element.appendChild(docLink);\n",
              "        }\n",
              "      </script>\n",
              "    </div>\n",
              "  </div>\n",
              "  "
            ],
            "text/plain": [
              "      loanamount  totaldue  ...  level_of_education_clients  Age\n",
              "0        30000.0   34500.0  ...               Post-Graduate   50\n",
              "1        15000.0   17250.0  ...                    Graduate   36\n",
              "2        20000.0   22250.0  ...                         NaN   37\n",
              "3        10000.0   11500.0  ...                         NaN   44\n",
              "4        40000.0   44000.0  ...                     Primary   35\n",
              "...          ...       ...  ...                         ...  ...\n",
              "3272     10000.0   11500.0  ...                         NaN   42\n",
              "3273     10000.0   13000.0  ...                         NaN   32\n",
              "3274     10000.0   11500.0  ...                         NaN   32\n",
              "3275     10000.0   13000.0  ...                         NaN   31\n",
              "3276     30000.0   34500.0  ...                         NaN   33\n",
              "\n",
              "[3277 rows x 12 columns]"
            ]
          },
          "metadata": {}
        }
      ]
    },
    {
      "cell_type": "code",
      "source": [
        "# drop birthday\n",
        "result = result.drop(columns=['birthdate'])"
      ],
      "metadata": {
        "id": "hAq6fXzjj_2L"
      },
      "execution_count": null,
      "outputs": []
    },
    {
      "cell_type": "code",
      "source": [
        "# k-means clustering to cluster longitude and latitude \n",
        "# define the model\n",
        "from sklearn.cluster import KMeans\n",
        "model = KMeans(n_clusters=5)\n",
        "# fit the model\n",
        "model.fit(result[['longitude_gps','latitude_gps']])\n",
        "# assign a cluster to each example\n",
        "yhat = pd.DataFrame(model.predict(result[['longitude_gps','latitude_gps']]),columns=['Location_Cluster'])\n",
        "if 'Location_Cluster' not in result:\n",
        "  result = pd.concat([result.set_index(yhat.index),yhat],axis=1)\n",
        "else:\n",
        "  result['Location_Cluster'] = yhat\n",
        "colors = ['#747FE3', '#8EE35D', '#E37346']\n",
        "sns.set_palette(sns.color_palette(colors))\n",
        "sns.scatterplot(x='longitude_gps', y='latitude_gps', data=result, hue='Location_Cluster', palette = \"brg\")\n"
      ],
      "metadata": {
        "id": "N1NMzI2TrkMn",
        "colab": {
          "base_uri": "https://localhost:8080/"
        },
        "outputId": "6d3cc466-5018-4c9a-c2d5-766dd50488bd"
      },
      "execution_count": null,
      "outputs": [
        {
          "output_type": "execute_result",
          "data": {
            "text/plain": [
              "<matplotlib.axes._subplots.AxesSubplot at 0x7f95a865c450>"
            ]
          },
          "metadata": {},
          "execution_count": 211
        },
        {
          "output_type": "display_data",
          "data": {
            "image/png": "[encoded data removed]",
            "text/plain": [
              "<Figure size 432x288 with 1 Axes>"
            ]
          },
          "metadata": {}
        }
      ]
    },
    {
      "cell_type": "code",
      "source": [
        "# create dummy variables for categorical variables \n",
        "result = pd.get_dummies(data=result, columns=['bank_name_clients','employment_status_clients','bank_account_type','level_of_education_clients'])"
      ],
      "metadata": {
        "id": "y9Cslpa9SdmS"
      },
      "execution_count": null,
      "outputs": []
    },
    {
      "cell_type": "code",
      "source": [
        "# drop latitude & longitude\n",
        "result = result.drop(columns=['longitude_gps','latitude_gps'])"
      ],
      "metadata": {
        "id": "3c792NHUkkGG"
      },
      "execution_count": null,
      "outputs": []
    },
    {
      "cell_type": "code",
      "source": [
        "# Review columns in dataframe\n",
        "result.columns"
      ],
      "metadata": {
        "colab": {
          "base_uri": "https://localhost:8080/"
        },
        "id": "bJ-7dYRdkvij",
        "outputId": "23da9dac-e6f8-44e1-bd0c-b76d0faf871c"
      },
      "execution_count": null,
      "outputs": [
        {
          "output_type": "execute_result",
          "data": {
            "text/plain": [
              "Index(['loanamount', 'totaldue', 'termdays', 'good_bad_flag', 'Age',\n",
              "       'Location_Cluster', 'bank_name_clients_First Bank',\n",
              "       'bank_name_clients_GT Bank', 'bank_name_clients_OTHER',\n",
              "       'employment_status_clients_OTHER',\n",
              "       'employment_status_clients_Permanent',\n",
              "       'employment_status_clients_Self-Employed',\n",
              "       'employment_status_clients_Student', 'bank_account_type_Current',\n",
              "       'bank_account_type_Other', 'bank_account_type_Savings',\n",
              "       'level_of_education_clients_Graduate',\n",
              "       'level_of_education_clients_Post-Graduate',\n",
              "       'level_of_education_clients_Primary',\n",
              "       'level_of_education_clients_Secondary'],\n",
              "      dtype='object')"
            ]
          },
          "metadata": {},
          "execution_count": 214
        }
      ]
    },
    {
      "cell_type": "markdown",
      "source": [
        "#**Visualizations**\n",
        "\n"
      ],
      "metadata": {
        "id": "aX913-KdV1eg"
      }
    },
    {
      "cell_type": "code",
      "source": [
        "# Violinplots for quant variables\n",
        "result[\"All\"] = \"\"\n",
        "for i in result.columns:\n",
        "  if (result.dtypes[i] == 'int64' or result.dtypes[i] == 'float64') and ((i != 'All') and (i != 'good_bad_flag')):\n",
        "    plt.figure(figsize = (10,5))\n",
        "    sns.violinplot(x = 'All',y = i, hue = \"good_bad_flag\", data = result,palette = {True:'blue', False:'red'})\n",
        "    plt.show()\n",
        "result.drop('All',axis=1)\n",
        "\n",
        "result = result.drop(columns=['All'])"
      ],
      "metadata": {
        "id": "B3J7luyAGafC",
        "colab": {
          "base_uri": "https://localhost:8080/"
        },
        "outputId": "8dd68f67-8399-48da-8241-0c0472b2e5fe"
      },
      "execution_count": null,
      "outputs": [
        {
          "output_type": "display_data",
          "data": {
            "image/png": "[encoded data removed]",
            "text/plain": [
              "<Figure size 720x360 with 1 Axes>"
            ]
          },
          "metadata": {}
        },
        {
          "output_type": "display_data",
          "data": {
            "image/png": "[encoded data removed]",
            "text/plain": [
              "<Figure size 720x360 with 1 Axes>"
            ]
          },
          "metadata": {}
        },
        {
          "output_type": "display_data",
          "data": {
            "image/png": "[encoded data removed]",
            "text/plain": [
              "<Figure size 720x360 with 1 Axes>"
            ]
          },
          "metadata": {}
        },
        {
          "output_type": "display_data",
          "data": {
            "image/png": "[encoded data removed]",
            "text/plain": [
              "<Figure size 720x360 with 1 Axes>"
            ]
          },
          "metadata": {}
        }
      ]
    },
    {
      "cell_type": "code",
      "source": [
        "# Bivariate violinplots\n",
        "plt.figure(figsize = (10,5))\n",
        "sns.violinplot(x =\"termdays\", y =\"totaldue\", hue =\"good_bad_flag\",data = result, split = True)\n",
        "plt.show()\n",
        "plt.figure(figsize = (10,5))\n",
        "sns.violinplot(x =\"loanamount\", y =\"totaldue\", hue =\"good_bad_flag\",data = result, split = True)\n",
        "plt.show()"
      ],
      "metadata": {
        "id": "36iOcC4pX7e4",
        "colab": {
          "base_uri": "https://localhost:8080/"
        },
        "outputId": "3307ccc6-5a74-4a56-a7b9-e112027b44e7"
      },
      "execution_count": null,
      "outputs": [
        {
          "output_type": "display_data",
          "data": {
            "image/png": "[encoded data removed]",
            "text/plain": [
              "<Figure size 720x360 with 1 Axes>"
            ]
          },
          "metadata": {}
        },
        {
          "output_type": "display_data",
          "data": {
            "image/png": "[encoded data removed]",
            "text/plain": [
              "<Figure size 720x360 with 1 Axes>"
            ]
          },
          "metadata": {}
        }
      ]
    },
    {
      "cell_type": "markdown",
      "source": [
        "# **Missing values & duplicates**"
      ],
      "metadata": {
        "id": "Hm_LvHRzDrAl"
      }
    },
    {
      "cell_type": "code",
      "source": [
        "# Count total NaN at each column in a DataFrame\n",
        "print(\" \\nCount total NaN at each column in a DataFrame : \\n\\n\",\n",
        "      result.isnull().sum())"
      ],
      "metadata": {
        "id": "oMhvDmxag13V",
        "colab": {
          "base_uri": "https://localhost:8080/"
        },
        "outputId": "8c0a1f3f-bf55-41f2-cd60-05f7f0192137"
      },
      "execution_count": null,
      "outputs": [
        {
          "output_type": "stream",
          "name": "stdout",
          "text": [
            " \n",
            "Count total NaN at each column in a DataFrame : \n",
            "\n",
            " loanamount                                  0\n",
            "totaldue                                    0\n",
            "termdays                                    0\n",
            "good_bad_flag                               0\n",
            "Age                                         0\n",
            "Location_Cluster                            0\n",
            "bank_name_clients_First Bank                0\n",
            "bank_name_clients_GT Bank                   0\n",
            "bank_name_clients_OTHER                     0\n",
            "employment_status_clients_OTHER             0\n",
            "employment_status_clients_Permanent         0\n",
            "employment_status_clients_Self-Employed     0\n",
            "employment_status_clients_Student           0\n",
            "bank_account_type_Current                   0\n",
            "bank_account_type_Other                     0\n",
            "bank_account_type_Savings                   0\n",
            "level_of_education_clients_Graduate         0\n",
            "level_of_education_clients_Post-Graduate    0\n",
            "level_of_education_clients_Primary          0\n",
            "level_of_education_clients_Secondary        0\n",
            "dtype: int64\n"
          ]
        }
      ]
    },
    {
      "cell_type": "code",
      "source": [
        "result.isnull().any()"
      ],
      "metadata": {
        "id": "9O6MDmKmyL9C",
        "colab": {
          "base_uri": "https://localhost:8080/"
        },
        "outputId": "5c8f7179-ae19-49df-a364-f6254fe4b5e5"
      },
      "execution_count": null,
      "outputs": [
        {
          "output_type": "execute_result",
          "data": {
            "text/plain": [
              "loanamount                                  False\n",
              "totaldue                                    False\n",
              "termdays                                    False\n",
              "good_bad_flag                               False\n",
              "Age                                         False\n",
              "Location_Cluster                            False\n",
              "bank_name_clients_First Bank                False\n",
              "bank_name_clients_GT Bank                   False\n",
              "bank_name_clients_OTHER                     False\n",
              "employment_status_clients_OTHER             False\n",
              "employment_status_clients_Permanent         False\n",
              "employment_status_clients_Self-Employed     False\n",
              "employment_status_clients_Student           False\n",
              "bank_account_type_Current                   False\n",
              "bank_account_type_Other                     False\n",
              "bank_account_type_Savings                   False\n",
              "level_of_education_clients_Graduate         False\n",
              "level_of_education_clients_Post-Graduate    False\n",
              "level_of_education_clients_Primary          False\n",
              "level_of_education_clients_Secondary        False\n",
              "dtype: bool"
            ]
          },
          "metadata": {},
          "execution_count": 218
        }
      ]
    },
    {
      "cell_type": "code",
      "source": [
        "# Check for duplicates and remove if there is any \n",
        "result.drop_duplicates(inplace = True)\n",
        "print('\\n Duplicates\\n',result.duplicated().sum())"
      ],
      "metadata": {
        "id": "ZrzBq94hRQeb",
        "colab": {
          "base_uri": "https://localhost:8080/"
        },
        "outputId": "5e2a5e2b-528f-42d4-eb77-5f0dee38a9c8"
      },
      "execution_count": null,
      "outputs": [
        {
          "output_type": "stream",
          "name": "stdout",
          "text": [
            "\n",
            " Duplicates\n",
            " 0\n"
          ]
        }
      ]
    },
    {
      "cell_type": "markdown",
      "source": [
        "#**Pre-processing - Skewness correction**\n",
        "\n"
      ],
      "metadata": {
        "id": "ROLO0P-ZLycC"
      }
    },
    {
      "cell_type": "code",
      "source": [
        "# pick numerical variables and set them as X\n",
        "X = result[['loanamount','totaldue','termdays','Age']]"
      ],
      "metadata": {
        "id": "5m-XXhx8dJFa"
      },
      "execution_count": null,
      "outputs": []
    },
    {
      "cell_type": "code",
      "source": [
        "# Code for skewness correction (see source below)\n",
        "# Depending upon the characteritics of a feature (column), a log, Box-Cox or power transform is applied to normalize the distribution \n",
        "\n",
        "# -*- coding: utf-8 -*-\n",
        "\"\"\"\n",
        "Created on Sat Feb 23 14:42:46 2019\n",
        "@author: DATAmadness\n",
        "\"\"\"\n",
        "\n",
        "##################################################\n",
        "# A function that will accept a pandas dataframe\n",
        "# and auto-transforms columns that exceeds threshold value\n",
        "#  -  Offers choice between boxcox or log / exponential transformation\n",
        "#  -  Automatically handles negative values\n",
        "#  -  Auto recognizes positive /negative skewness\n",
        "\n",
        "# Further documentation available here:\n",
        "# https://datamadness.github.io/Skewness_Auto_Transform\n",
        "\n",
        "def skew_autotransform(DF, include = None, exclude = None, plot = False, threshold = 1, exp = False):\n",
        "    \n",
        "    #Get list of column names that should be processed based on input parameters\n",
        "    if include is None and exclude is None:\n",
        "        colnames = DF.columns.values\n",
        "    elif include is not None:\n",
        "        colnames = include\n",
        "    elif exclude is not None:\n",
        "        colnames = [item for item in list(DF.columns.values) if item not in exclude]\n",
        "    else:\n",
        "        print('No columns to process!')\n",
        "    \n",
        "    #Helper function that checks if all values are positive\n",
        "    def make_positive(series):\n",
        "        minimum = np.amin(series)\n",
        "        #If minimum is negative, offset all values by a constant to move all values to positive teritory\n",
        "        if minimum <= 0:\n",
        "            series = series + abs(minimum) + 0.01\n",
        "        return series\n",
        "    \n",
        "    \n",
        "    #Go through desired columns in DataFrame\n",
        "    for col in colnames:\n",
        "        #Get column skewness\n",
        "        skew = DF[col].skew()\n",
        "        transformed = True\n",
        "        \n",
        "        if plot:\n",
        "            #Prep the plot of original data\n",
        "            sns.set_style(\"darkgrid\")\n",
        "            sns.set_palette(\"Blues_r\")\n",
        "            fig, axes = plt.subplots(1, 2, figsize=(10, 5))\n",
        "            #ax1 = sns.distplot(DF[col], ax=axes[0])\n",
        "            ax1 = sns.histplot(DF[col], ax=axes[0], color=\"blue\", label=\"100% Equities\", kde=True, stat=\"density\", linewidth=0)\n",
        "            ax1.set(xlabel='Original ' + str(col))\n",
        "        \n",
        "        #If skewness is larger than threshold and positively skewed; If yes, apply appropriate transformation\n",
        "        if abs(skew) > threshold and skew > 0:\n",
        "            skewType = 'positive'\n",
        "            #Make sure all values are positive\n",
        "            DF[col] = make_positive(DF[col])\n",
        "            \n",
        "            if exp:\n",
        "               #Apply log transformation \n",
        "               DF[col] = DF[col].apply(math.log)\n",
        "            else:\n",
        "                #Apply boxcox transformation\n",
        "                DF[col] = ss.boxcox(DF[col])[0]\n",
        "            skew_new = DF[col].skew()\n",
        "         \n",
        "        elif abs(skew) > threshold and skew < 0:\n",
        "            skewType = 'negative'\n",
        "            #Make sure all values are positive\n",
        "            DF[col] = make_positive(DF[col])\n",
        "            \n",
        "            if exp:\n",
        "               #Apply exp transformation \n",
        "               DF[col] = DF[col].pow(10)\n",
        "            else:\n",
        "                #Apply boxcox transformation\n",
        "                DF[col] = ss.boxcox(DF[col])[0]\n",
        "            skew_new = DF[col].skew()\n",
        "        \n",
        "        else:\n",
        "            #Flag if no transformation was performed\n",
        "            transformed = False\n",
        "            skew_new = skew\n",
        "        \n",
        "        #Compare before and after if plot is True\n",
        "        if plot:\n",
        "            print('\\n ------------------------------------------------------')     \n",
        "            if transformed:\n",
        "                print('\\n %r had %r skewness of %2.2f' %(col, skewType, skew))\n",
        "                print('\\n Transformation yielded skewness of %2.2f' %(skew_new))\n",
        "                sns.set_palette(\"Paired\")\n",
        "                #ax2 = sns.distplot(DF[col], ax=axes[1], color = 'r')\n",
        "                ax2 = sns.histplot(DF[col], ax=axes[1], color=\"red\", label=\"100% Equities\", kde=True, stat=\"density\", linewidth=0)\n",
        "                ax2.set(xlabel='Transformed ' + str(col))\n",
        "                plt.show()\n",
        "            else:\n",
        "                print('\\n NO TRANSFORMATION APPLIED FOR %r . Skewness = %2.2f' %(col, skew))\n",
        "                #ax2 = sns.distplot(DF[col], ax=axes[1])\n",
        "                ax2 = sns.histplot(DF[col], ax=axes[1], color=\"blue\", label=\"100% Equities\", kde=True, stat=\"density\", linewidth=0)\n",
        "                ax2.set(xlabel='NO TRANSFORM ' + str(col))\n",
        "                plt.show()\n",
        "                \n",
        "\n",
        "    return DF"
      ],
      "metadata": {
        "id": "b_criW9kLBcW"
      },
      "execution_count": null,
      "outputs": []
    },
    {
      "cell_type": "code",
      "source": [
        "# Use code above (adapted from https://github.com/datamadness/Automatic-skewness-transformation-for-Pandas-DataFrame) to correct skewness\n",
        "# All the predictors are real-valued, so we can push them all through the skewness check/correction.\n",
        "X = skew_autotransform(X.copy(deep=True), plot = True, exp = False, threshold = 1)"
      ],
      "metadata": {
        "id": "Y7SKSkv7dPFP",
        "colab": {
          "base_uri": "https://localhost:8080/"
        },
        "outputId": "45f79d76-fe39-44dd-ae30-91cf2aff72ba"
      },
      "execution_count": null,
      "outputs": [
        {
          "output_type": "stream",
          "name": "stdout",
          "text": [
            "\n",
            " ------------------------------------------------------\n",
            "\n",
            " NO TRANSFORMATION APPLIED FOR 'loanamount' . Skewness = 0.82\n"
          ]
        },
        {
          "output_type": "display_data",
          "data": {
            "image/png": "[encoded data removed]",
            "text/plain": [
              "<Figure size 720x360 with 2 Axes>"
            ]
          },
          "metadata": {}
        },
        {
          "output_type": "stream",
          "name": "stdout",
          "text": [
            "\n",
            " ------------------------------------------------------\n",
            "\n",
            " NO TRANSFORMATION APPLIED FOR 'totaldue' . Skewness = 0.73\n"
          ]
        },
        {
          "output_type": "display_data",
          "data": {
            "image/png": "[encoded data removed]",
            "text/plain": [
              "<Figure size 720x360 with 2 Axes>"
            ]
          },
          "metadata": {}
        },
        {
          "output_type": "stream",
          "name": "stdout",
          "text": [
            "\n",
            " ------------------------------------------------------\n",
            "\n",
            " 'termdays' had 'positive' skewness of 1.69\n",
            "\n",
            " Transformation yielded skewness of -0.00\n"
          ]
        },
        {
          "output_type": "display_data",
          "data": {
            "image/png": "[encoded data removed]",
            "text/plain": [
              "<Figure size 720x360 with 2 Axes>"
            ]
          },
          "metadata": {}
        },
        {
          "output_type": "stream",
          "name": "stdout",
          "text": [
            "\n",
            " ------------------------------------------------------\n",
            "\n",
            " NO TRANSFORMATION APPLIED FOR 'Age' . Skewness = 0.63\n"
          ]
        },
        {
          "output_type": "display_data",
          "data": {
            "image/png": "[encoded data removed]",
            "text/plain": [
              "<Figure size 720x360 with 2 Axes>"
            ]
          },
          "metadata": {}
        }
      ]
    },
    {
      "cell_type": "markdown",
      "source": [
        "#**Pre-processing - Outliers**"
      ],
      "metadata": {
        "id": "lUoSHeL3LvVM"
      }
    },
    {
      "cell_type": "code",
      "source": [
        "# Tukey Rule outliers\n",
        "# As an alternative, you could use z-scores greater than 3 or less than -3.\n",
        "\n",
        "cols = X.columns\n",
        "#Tukey's method\n",
        "def tukey_rule(data, col):\n",
        "    Q1 = data[col].quantile(0.25)\n",
        "    Q3 = data[col].quantile(0.75)\n",
        "    IQR = Q3 - Q1\n",
        "    upper_lim = data[col].quantile(0.5) + 2 * IQR\n",
        "    lower_lim = data[col].quantile(0.5) - 2 * IQR\n",
        "    outliers = []\n",
        "    for index, x in enumerate(data[col]):\n",
        "        if x < lower_lim or x >= upper_lim:\n",
        "            outliers.append(index)\n",
        "    return outliers\n",
        "\n",
        "# Identify outliers\n",
        "for i in cols:\n",
        "  outliers_Tukey = tukey_rule(X,i)\n",
        "  print(\"Column \",i,\": \",outliers_Tukey)\n",
        "  \n",
        "# Windsorize X and check the results\n",
        "print(\"Before\", X.describe())\n",
        "X_winsorized = X.copy(deep=True)\n",
        "for i in cols:\n",
        "  X_winsorized[i] = winsorize(X[i], limits=(0.05, 0.05))\n",
        "print(\"After\", X_winsorized.describe())"
      ],
      "metadata": {
        "id": "TFz51RnddQdE",
        "colab": {
          "base_uri": "https://localhost:8080/"
        },
        "outputId": "9c9eacbd-147a-4215-cbb6-59614d2372f6"
      },
      "execution_count": null,
      "outputs": [
        {
          "output_type": "stream",
          "name": "stdout",
          "text": [
            "Column  loanamount :  [721, 970, 996, 1414, 1520, 1828]\n",
            "Column  totaldue :  [721, 970, 996, 1414, 1828]\n",
            "Column  termdays :  [0, 1, 2, 3, 4, 5, 6, 7, 8, 9, 10, 11, 12, 13, 14, 15, 16, 17, 18, 19, 20, 21, 22, 23, 24, 25, 26, 27, 28, 29, 30, 31, 32, 33, 34, 35, 36, 37, 38, 39, 40, 41, 42, 43, 44, 45, 46, 47, 48, 49, 50, 51, 52, 53, 54, 55, 56, 57, 58, 59, 60, 61, 62, 63, 64, 65, 66, 67, 68, 69, 70, 71, 72, 73, 74, 75, 76, 77, 78, 79, 80, 81, 82, 83, 84, 85, 86, 87, 88, 89, 90, 91, 92, 93, 94, 95, 96, 97, 98, 99, 100, 101, 102, 103, 104, 105, 106, 107, 108, 109, 110, 111, 112, 113, 114, 115, 116, 117, 118, 119, 120, 121, 122, 123, 124, 125, 126, 127, 128, 129, 130, 131, 132, 133, 134, 135, 136, 137, 138, 139, 140, 141, 142, 143, 144, 145, 146, 147, 148, 149, 150, 151, 152, 153, 154, 155, 156, 157, 158, 159, 160, 161, 162, 163, 164, 165, 166, 167, 168, 169, 170, 171, 172, 173, 174, 175, 176, 177, 178, 179, 180, 181, 182, 183, 184, 185, 186, 187, 188, 189, 190, 191, 192, 193, 194, 195, 196, 197, 198, 199, 200, 201, 202, 203, 204, 205, 206, 207, 208, 209, 210, 211, 212, 213, 214, 215, 216, 217, 218, 219, 220, 221, 222, 223, 224, 225, 226, 227, 228, 229, 230, 231, 232, 233, 234, 235, 236, 237, 238, 239, 240, 241, 242, 243, 244, 245, 246, 247, 248, 249, 250, 251, 252, 253, 254, 255, 256, 257, 258, 259, 260, 261, 262, 263, 264, 265, 266, 267, 268, 269, 270, 271, 272, 273, 274, 275, 276, 277, 278, 279, 280, 281, 282, 283, 284, 285, 286, 287, 288, 289, 290, 291, 292, 293, 294, 295, 296, 297, 298, 299, 300, 301, 302, 303, 304, 305, 306, 307, 308, 309, 310, 311, 312, 313, 314, 315, 316, 317, 318, 319, 320, 321, 322, 323, 324, 325, 326, 327, 328, 329, 330, 331, 332, 333, 334, 335, 336, 337, 338, 339, 340, 341, 342, 343, 344, 345, 346, 347, 348, 349, 350, 351, 352, 353, 354, 355, 356, 357, 358, 359, 360, 361, 362, 363, 364, 365, 366, 367, 368, 369, 370, 371, 372, 373, 374, 375, 376, 377, 378, 379, 380, 381, 382, 383, 384, 385, 386, 387, 388, 389, 390, 391, 392, 393, 394, 395, 396, 397, 398, 399, 400, 401, 402, 403, 404, 405, 406, 407, 408, 409, 410, 411, 412, 413, 414, 415, 416, 417, 418, 419, 420, 421, 422, 423, 424, 425, 426, 427, 428, 429, 430, 431, 432, 433, 434, 435, 436, 437, 438, 439, 440, 441, 442, 443, 444, 445, 446, 447, 448, 449, 450, 451, 452, 453, 454, 455, 456, 457, 458, 459, 460, 461, 462, 463, 464, 465, 466, 467, 468, 469, 470, 471, 472, 473, 474, 475, 476, 477, 478, 479, 480, 481, 482, 483, 484, 485, 486, 487, 488, 489, 490, 491, 492, 493, 494, 495, 496, 497, 498, 499, 500, 501, 502, 503, 504, 505, 506, 507, 508, 509, 510, 511, 512, 513, 514, 515, 516, 517, 518, 519, 520, 521, 522, 523, 524, 525, 526, 527, 528, 529, 530, 531, 532, 533, 534, 535, 536, 537, 538, 539, 540, 541, 542, 543, 544, 545, 546, 547, 548, 549, 550, 551, 552, 553, 554, 555, 556, 557, 558, 559, 560, 561, 562, 563, 564, 565, 566, 567, 568, 569, 570, 571, 572, 573, 574, 575, 576, 577, 578, 579, 580, 581, 582, 583, 584, 585, 586, 587, 588, 589, 590, 591, 592, 593, 594, 595, 596, 597, 598, 599, 600, 601, 602, 603, 604, 605, 606, 607, 608, 609, 610, 611, 612, 613, 614, 615, 616, 617, 618, 619, 620, 621, 622, 623, 624, 625, 626, 627, 628, 629, 630, 631, 632, 633, 634, 635, 636, 637, 638, 639, 640, 641, 642, 643, 644, 645, 646, 647, 648, 649, 650, 651, 652, 653, 654, 655, 656, 657, 658, 659, 660, 661, 662, 663, 664, 665, 666, 667, 668, 669, 670, 671, 672, 673, 674, 675, 676, 677, 678, 679, 680, 681, 682, 683, 684, 685, 686, 687, 688, 689, 690, 691, 692, 693, 694, 695, 696, 697, 698, 699, 700, 701, 702, 703, 704, 705, 706, 707, 708, 709, 710, 711, 712, 713, 714, 715, 716, 717, 718, 719, 720, 721, 722, 723, 724, 725, 726, 727, 728, 729, 730, 731, 732, 733, 734, 735, 736, 737, 738, 739, 740, 741, 742, 743, 744, 745, 746, 747, 748, 749, 750, 751, 752, 753, 754, 755, 756, 757, 758, 759, 760, 761, 762, 763, 764, 765, 766, 767, 768, 769, 770, 771, 772, 773, 774, 775, 776, 777, 778, 779, 780, 781, 782, 783, 784, 785, 786, 787, 788, 789, 790, 791, 792, 793, 794, 795, 796, 797, 798, 799, 800, 801, 802, 803, 804, 805, 806, 807, 808, 809, 810, 811, 812, 813, 814, 815, 816, 817, 818, 819, 820, 821, 822, 823, 824, 825, 826, 827, 828, 829, 830, 831, 832, 833, 834, 835, 836, 837, 838, 839, 840, 841, 842, 843, 844, 845, 846, 847, 848, 849, 850, 851, 852, 853, 854, 855, 856, 857, 858, 859, 860, 861, 862, 863, 864, 865, 866, 867, 868, 869, 870, 871, 872, 873, 874, 875, 876, 877, 878, 879, 880, 881, 882, 883, 884, 885, 886, 887, 888, 889, 890, 891, 892, 893, 894, 895, 896, 897, 898, 899, 900, 901, 902, 903, 904, 905, 906, 907, 908, 909, 910, 911, 912, 913, 914, 915, 916, 917, 918, 919, 920, 921, 922, 923, 924, 925, 926, 927, 928, 929, 930, 931, 932, 933, 934, 935, 936, 937, 938, 939, 940, 941, 942, 943, 944, 945, 946, 947, 948, 949, 950, 951, 952, 953, 954, 955, 956, 957, 958, 959, 960, 961, 962, 963, 964, 965, 966, 967, 968, 969, 970, 971, 972, 973, 974, 975, 976, 977, 978, 979, 980, 981, 982, 983, 984, 985, 986, 987, 988, 989, 990, 991, 992, 993, 994, 995, 996, 997, 998, 999, 1000, 1001, 1002, 1003, 1004, 1005, 1006, 1007, 1008, 1009, 1010, 1011, 1012, 1013, 1014, 1015, 1016, 1017, 1018, 1019, 1020, 1021, 1022, 1023, 1024, 1025, 1026, 1027, 1028, 1029, 1030, 1031, 1032, 1033, 1034, 1035, 1036, 1037, 1038, 1039, 1040, 1041, 1042, 1043, 1044, 1045, 1046, 1047, 1048, 1049, 1050, 1051, 1052, 1053, 1054, 1055, 1056, 1057, 1058, 1059, 1060, 1061, 1062, 1063, 1064, 1065, 1066, 1067, 1068, 1069, 1070, 1071, 1072, 1073, 1074, 1075, 1076, 1077, 1078, 1079, 1080, 1081, 1082, 1083, 1084, 1085, 1086, 1087, 1088, 1089, 1090, 1091, 1092, 1093, 1094, 1095, 1096, 1097, 1098, 1099, 1100, 1101, 1102, 1103, 1104, 1105, 1106, 1107, 1108, 1109, 1110, 1111, 1112, 1113, 1114, 1115, 1116, 1117, 1118, 1119, 1120, 1121, 1122, 1123, 1124, 1125, 1126, 1127, 1128, 1129, 1130, 1131, 1132, 1133, 1134, 1135, 1136, 1137, 1138, 1139, 1140, 1141, 1142, 1143, 1144, 1145, 1146, 1147, 1148, 1149, 1150, 1151, 1152, 1153, 1154, 1155, 1156, 1157, 1158, 1159, 1160, 1161, 1162, 1163, 1164, 1165, 1166, 1167, 1168, 1169, 1170, 1171, 1172, 1173, 1174, 1175, 1176, 1177, 1178, 1179, 1180, 1181, 1182, 1183, 1184, 1185, 1186, 1187, 1188, 1189, 1190, 1191, 1192, 1193, 1194, 1195, 1196, 1197, 1198, 1199, 1200, 1201, 1202, 1203, 1204, 1205, 1206, 1207, 1208, 1209, 1210, 1211, 1212, 1213, 1214, 1215, 1216, 1217, 1218, 1219, 1220, 1221, 1222, 1223, 1224, 1225, 1226, 1227, 1228, 1229, 1230, 1231, 1232, 1233, 1234, 1235, 1236, 1237, 1238, 1239, 1240, 1241, 1242, 1243, 1244, 1245, 1246, 1247, 1248, 1249, 1250, 1251, 1252, 1253, 1254, 1255, 1256, 1257, 1258, 1259, 1260, 1261, 1262, 1263, 1264, 1265, 1266, 1267, 1268, 1269, 1270, 1271, 1272, 1273, 1274, 1275, 1276, 1277, 1278, 1279, 1280, 1281, 1282, 1283, 1284, 1285, 1286, 1287, 1288, 1289, 1290, 1291, 1292, 1293, 1294, 1295, 1296, 1297, 1298, 1299, 1300, 1301, 1302, 1303, 1304, 1305, 1306, 1307, 1308, 1309, 1310, 1311, 1312, 1313, 1314, 1315, 1316, 1317, 1318, 1319, 1320, 1321, 1322, 1323, 1324, 1325, 1326, 1327, 1328, 1329, 1330, 1331, 1332, 1333, 1334, 1335, 1336, 1337, 1338, 1339, 1340, 1341, 1342, 1343, 1344, 1345, 1346, 1347, 1348, 1349, 1350, 1351, 1352, 1353, 1354, 1355, 1356, 1357, 1358, 1359, 1360, 1361, 1362, 1363, 1364, 1365, 1366, 1367, 1368, 1369, 1370, 1371, 1372, 1373, 1374, 1375, 1376, 1377, 1378, 1379, 1380, 1381, 1382, 1383, 1384, 1385, 1386, 1387, 1388, 1389, 1390, 1391, 1392, 1393, 1394, 1395, 1396, 1397, 1398, 1399, 1400, 1401, 1402, 1403, 1404, 1405, 1406, 1407, 1408, 1409, 1410, 1411, 1412, 1413, 1414, 1415, 1416, 1417, 1418, 1419, 1420, 1421, 1422, 1423, 1424, 1425, 1426, 1427, 1428, 1429, 1430, 1431, 1432, 1433, 1434, 1435, 1436, 1437, 1438, 1439, 1440, 1441, 1442, 1443, 1444, 1445, 1446, 1447, 1448, 1449, 1450, 1451, 1452, 1453, 1454, 1455, 1456, 1457, 1458, 1459, 1460, 1461, 1462, 1463, 1464, 1465, 1466, 1467, 1468, 1469, 1470, 1471, 1472, 1473, 1474, 1475, 1476, 1477, 1478, 1479, 1480, 1481, 1482, 1483, 1484, 1485, 1486, 1487, 1488, 1489, 1490, 1491, 1492, 1493, 1494, 1495, 1496, 1497, 1498, 1499, 1500, 1501, 1502, 1503, 1504, 1505, 1506, 1507, 1508, 1509, 1510, 1511, 1512, 1513, 1514, 1515, 1516, 1517, 1518, 1519, 1520, 1521, 1522, 1523, 1524, 1525, 1526, 1527, 1528, 1529, 1530, 1531, 1532, 1533, 1534, 1535, 1536, 1537, 1538, 1539, 1540, 1541, 1542, 1543, 1544, 1545, 1546, 1547, 1548, 1549, 1550, 1551, 1552, 1553, 1554, 1555, 1556, 1557, 1558, 1559, 1560, 1561, 1562, 1563, 1564, 1565, 1566, 1567, 1568, 1569, 1570, 1571, 1572, 1573, 1574, 1575, 1576, 1577, 1578, 1579, 1580, 1581, 1582, 1583, 1584, 1585, 1586, 1587, 1588, 1589, 1590, 1591, 1592, 1593, 1594, 1595, 1596, 1597, 1598, 1599, 1600, 1601, 1602, 1603, 1604, 1605, 1606, 1607, 1608, 1609, 1610, 1611, 1612, 1613, 1614, 1615, 1616, 1617, 1618, 1619, 1620, 1621, 1622, 1623, 1624, 1625, 1626, 1627, 1628, 1629, 1630, 1631, 1632, 1633, 1634, 1635, 1636, 1637, 1638, 1639, 1640, 1641, 1642, 1643, 1644, 1645, 1646, 1647, 1648, 1649, 1650, 1651, 1652, 1653, 1654, 1655, 1656, 1657, 1658, 1659, 1660, 1661, 1662, 1663, 1664, 1665, 1666, 1667, 1668, 1669, 1670, 1671, 1672, 1673, 1674, 1675, 1676, 1677, 1678, 1679, 1680, 1681, 1682, 1683, 1684, 1685, 1686, 1687, 1688, 1689, 1690, 1691, 1692, 1693, 1694, 1695, 1696, 1697, 1698, 1699, 1700, 1701, 1702, 1703, 1704, 1705, 1706, 1707, 1708, 1709, 1710, 1711, 1712, 1713, 1714, 1715, 1716, 1717, 1718, 1719, 1720, 1721, 1722, 1723, 1724, 1725, 1726, 1727, 1728, 1729, 1730, 1731, 1732, 1733, 1734, 1735, 1736, 1737, 1738, 1739, 1740, 1741, 1742, 1743, 1744, 1745, 1746, 1747, 1748, 1749, 1750, 1751, 1752, 1753, 1754, 1755, 1756, 1757, 1758, 1759, 1760, 1761, 1762, 1763, 1764, 1765, 1766, 1767, 1768, 1769, 1770, 1771, 1772, 1773, 1774, 1775, 1776, 1777, 1778, 1779, 1780, 1781, 1782, 1783, 1784, 1785, 1786, 1787, 1788, 1789, 1790, 1791, 1792, 1793, 1794, 1795, 1796, 1797, 1798, 1799, 1800, 1801, 1802, 1803, 1804, 1805, 1806, 1807, 1808, 1809, 1810, 1811, 1812, 1813, 1814, 1815, 1816, 1817, 1818, 1819, 1820, 1821, 1822, 1823, 1824, 1825, 1826, 1827, 1828, 1829, 1830, 1831, 1832, 1833, 1834, 1835, 1836, 1837, 1838, 1839, 1840, 1841, 1842, 1843, 1844, 1845, 1846, 1847, 1848, 1849, 1850, 1851, 1852, 1853, 1854, 1855, 1856, 1857, 1858, 1859, 1860, 1861, 1862, 1863, 1864, 1865, 1866, 1867, 1868, 1869, 1870, 1871, 1872, 1873, 1874, 1875, 1876, 1877, 1878, 1879, 1880, 1881, 1882, 1883, 1884, 1885, 1886, 1887, 1888, 1889, 1890, 1891, 1892, 1893, 1894, 1895, 1896, 1897, 1898, 1899, 1900, 1901, 1902, 1903, 1904, 1905, 1906, 1907, 1908, 1909, 1910, 1911, 1912, 1913, 1914, 1915, 1916, 1917, 1918, 1919, 1920, 1921, 1922, 1923, 1924, 1925, 1926, 1927, 1928, 1929, 1930, 1931, 1932, 1933, 1934, 1935, 1936, 1937, 1938, 1939, 1940, 1941, 1942, 1943, 1944, 1945, 1946, 1947, 1948, 1949, 1950, 1951, 1952, 1953, 1954, 1955, 1956, 1957, 1958, 1959, 1960, 1961, 1962, 1963, 1964, 1965, 1966, 1967, 1968, 1969, 1970, 1971, 1972, 1973, 1974, 1975, 1976, 1977, 1978, 1979, 1980, 1981, 1982, 1983, 1984, 1985, 1986, 1987, 1988, 1989, 1990, 1991, 1992, 1993, 1994, 1995, 1996, 1997, 1998, 1999, 2000, 2001, 2002, 2003, 2004, 2005, 2006, 2007, 2008, 2009, 2010, 2011, 2012, 2013, 2014, 2015, 2016, 2017, 2018, 2019, 2020, 2021, 2022, 2023, 2024, 2025, 2026, 2027, 2028, 2029, 2030, 2031, 2032, 2033, 2034, 2035, 2036, 2037, 2038, 2039, 2040, 2041, 2042, 2043, 2044, 2045, 2046, 2047, 2048, 2049, 2050, 2051, 2052, 2053, 2054, 2055, 2056, 2057, 2058, 2059, 2060, 2061, 2062, 2063, 2064, 2065]\n",
            "Column  Age :  [11, 41, 139, 171, 323, 437, 466, 503, 599, 686, 783, 836, 851, 887, 1142, 1159, 1169, 1199, 1229, 1416, 1417, 1548, 1672, 1729, 1798, 1974, 2059]\n",
            "Before          loanamount      totaldue     termdays          Age\n",
            "count   2066.000000   2066.000000  2066.000000  2066.000000\n",
            "mean   20660.696999  24352.365924     2.827900    37.384802\n",
            "std    11761.824170  13085.389899     0.287075     6.808593\n",
            "min    10000.000000  10000.000000     2.371398    25.000000\n",
            "25%    10000.000000  13000.000000     2.881717    32.000000\n",
            "50%    20000.000000  22250.000000     2.881717    36.000000\n",
            "75%    30000.000000  34500.000000     2.881717    42.000000\n",
            "max    60000.000000  68100.000000     3.621261    60.000000\n",
            "After          loanamount      totaldue     termdays          Age\n",
            "count   2066.000000   2066.000000  2066.000000  2066.000000\n",
            "mean   20326.718296  24127.026864     2.825222    37.261859\n",
            "std    11017.363912  12548.898889     0.280819     6.266376\n",
            "min    10000.000000  11500.000000     2.371398    28.000000\n",
            "25%    10000.000000  13000.000000     2.881717    32.000000\n",
            "50%    20000.000000  22250.000000     2.881717    36.000000\n",
            "75%    30000.000000  34500.000000     2.881717    42.000000\n",
            "max    40000.000000  48000.000000     3.357758    50.000000\n"
          ]
        }
      ]
    },
    {
      "cell_type": "code",
      "source": [
        "#Review columns\n",
        "result.columns"
      ],
      "metadata": {
        "colab": {
          "base_uri": "https://localhost:8080/"
        },
        "id": "OtxGsyn3p2J7",
        "outputId": "3048f7d0-b6db-42e2-8d75-f2d15d0e1bfa"
      },
      "execution_count": null,
      "outputs": [
        {
          "output_type": "execute_result",
          "data": {
            "text/plain": [
              "Index(['loanamount', 'totaldue', 'termdays', 'good_bad_flag', 'Age',\n",
              "       'Location_Cluster', 'bank_name_clients_First Bank',\n",
              "       'bank_name_clients_GT Bank', 'bank_name_clients_OTHER',\n",
              "       'employment_status_clients_OTHER',\n",
              "       'employment_status_clients_Permanent',\n",
              "       'employment_status_clients_Self-Employed',\n",
              "       'employment_status_clients_Student', 'bank_account_type_Current',\n",
              "       'bank_account_type_Other', 'bank_account_type_Savings',\n",
              "       'level_of_education_clients_Graduate',\n",
              "       'level_of_education_clients_Post-Graduate',\n",
              "       'level_of_education_clients_Primary',\n",
              "       'level_of_education_clients_Secondary'],\n",
              "      dtype='object')"
            ]
          },
          "metadata": {},
          "execution_count": 224
        }
      ]
    },
    {
      "cell_type": "markdown",
      "source": [
        "#**Holdout Sample**\n"
      ],
      "metadata": {
        "id": "qRVfy90Bpml6"
      }
    },
    {
      "cell_type": "code",
      "source": [
        "X = result[['loanamount','totaldue','termdays','Age','Location_Cluster', 'bank_name_clients_First Bank',\n",
        "       'bank_name_clients_GT Bank', 'bank_name_clients_OTHER',\n",
        "       'employment_status_clients_OTHER',\n",
        "       'employment_status_clients_Permanent',\n",
        "       'employment_status_clients_Self-Employed',\n",
        "       'employment_status_clients_Student', 'bank_account_type_Current',\n",
        "       'bank_account_type_Other', 'bank_account_type_Savings',\n",
        "       'level_of_education_clients_Graduate',\n",
        "       'level_of_education_clients_Post-Graduate',\n",
        "       'level_of_education_clients_Primary',\n",
        "       'level_of_education_clients_Secondary']]\n",
        "y=result['good_bad_flag']"
      ],
      "metadata": {
        "id": "2g0RZn4AP6PP"
      },
      "execution_count": null,
      "outputs": []
    },
    {
      "cell_type": "code",
      "source": [
        "# Create holdout sample\n",
        "# Note: split before doing any trasformations on the data!!!\n",
        "from sklearn.model_selection import train_test_split\n",
        "X_train, X_test, y_train, y_test =\\\n",
        "    train_test_split(X, y, \n",
        "                     test_size=0.2,    # 80-20 training vs test set split\n",
        "                     random_state=0, \n",
        "                     stratify=y)\n",
        "print('Shape of X and y',X.shape, y.shape, '\\nShape of training set X and y',X_train.shape, y_train.shape, '\\nShape of test set X and y',X_test.shape, y_test.shape) \n"
      ],
      "metadata": {
        "colab": {
          "base_uri": "https://localhost:8080/"
        },
        "id": "EWPPWo7HPbe2",
        "outputId": "5cf69000-fff9-4b9f-916c-5241419dd72c"
      },
      "execution_count": null,
      "outputs": [
        {
          "output_type": "stream",
          "name": "stdout",
          "text": [
            "Shape of X and y (2066, 19) (2066,) \n",
            "Shape of training set X and y (1652, 19) (1652,) \n",
            "Shape of test set X and y (414, 19) (414,)\n"
          ]
        }
      ]
    },
    {
      "cell_type": "code",
      "source": [
        "# Standardization of predictor\n",
        "stdsc = StandardScaler()  \n",
        "X_train_std = stdsc.fit_transform(X_train)   \n",
        "X_test_std = stdsc.transform(X_test)             # transform uses the parameters from scaling the training data to transform our test data\n",
        "print('Mean and Standard Deviation of column 0 in Training Data: ',X_train_std[:,0].mean(), '  ',X_train_std[:,0].std())\n",
        "print('Mean and Standard Deviation of column 0 in Test Data: ',X_test_std[:,0].mean(), '  ',X_test_std[:,0].std())"
      ],
      "metadata": {
        "colab": {
          "base_uri": "https://localhost:8080/"
        },
        "id": "P7jLB_dXQlLT",
        "outputId": "28d3589b-cf86-4d58-b4b7-f5b8691c1cda"
      },
      "execution_count": null,
      "outputs": [
        {
          "output_type": "stream",
          "name": "stdout",
          "text": [
            "Mean and Standard Deviation of column 0 in Training Data:  1.0752765371672218e-17    1.0\n",
            "Mean and Standard Deviation of column 0 in Test Data:  -0.030530270902678035    1.012877824948289\n"
          ]
        }
      ]
    },
    {
      "cell_type": "markdown",
      "source": [
        ""
      ],
      "metadata": {
        "id": "VgbDLyUDR3A9"
      }
    },
    {
      "cell_type": "markdown",
      "source": [
        "#**Logistic Regression Classifier**"
      ],
      "metadata": {
        "id": "5LJhlnwtR5PE"
      }
    },
    {
      "cell_type": "code",
      "source": [
        "# Get started with logistic regression (logit) classifier\n",
        "clm = LogisticRegression(random_state=1, solver='sag',max_iter=1000,class_weight='balanced')     # Create logit model specifying random number seed to get repeatable results, use sag solver as lbfgs does not converge\n",
        "                                                                 # The following guidance about solvers is taken from the sklearn documentation:\n",
        "                                                                 # For small datasets, ‘liblinear’ is a good choice, whereas ‘sag’ and ‘saga’ are faster for large ones;\n",
        "                                                                 # For multiclass problems, only ‘newton-cg’, ‘sag’, ‘saga’ and ‘lbfgs’ handle multinomial loss;\n",
        "                                                                 # ‘liblinear’ is limited to one-versus-rest schemes.\n",
        "\n",
        "clm.fit(X_train_std, np.ravel(y_train))            # Fit model using training data. Ravel converts a column vector into the required 1D array format.\n",
        "y_pred = clm.predict(X_test_std)                                 # Apply model to test data\n",
        "print('Logit: AUC = ', roc_auc_score(y_test,y_pred), ' recall =', recall_score(y_test, y_pred),' accuracy = ', accuracy_score(y_test, y_pred))    # Test set accuracy\n",
        "print(confusion_matrix(y_true=y_test,y_pred=y_pred))                           # Confusion matrix\n",
        "print(\"Logit Model Coefficients\",list(clm.coef_))                # Logistic coefficients (can be used to assess which variables have the largest effect size in the model)"
      ],
      "metadata": {
        "colab": {
          "base_uri": "https://localhost:8080/"
        },
        "id": "Ew8amCDTSE-M",
        "outputId": "499a1213-9473-4add-a7ae-645c98821522"
      },
      "execution_count": null,
      "outputs": [
        {
          "output_type": "stream",
          "name": "stdout",
          "text": [
            "Logit: AUC =  0.5486217338369807  recall = 0.4758842443729904  accuracy =  0.5120772946859904\n",
            "[[ 64  39]\n",
            " [163 148]]\n",
            "Logit Model Coefficients [array([ 1.17489074, -0.75603332, -0.09438666,  0.1362833 ,  0.00325502,\n",
            "        0.06427939,  0.00931083, -0.05596011, -0.02216139,  0.02745719,\n",
            "       -0.00176895, -0.01873908,  0.11788609,  0.17901095, -0.21244359,\n",
            "        0.00524416, -0.14691117,  0.01271898, -0.03575456])]\n"
          ]
        }
      ]
    },
    {
      "cell_type": "code",
      "source": [
        "# Examine propensities of logit model\n",
        "logit_propensities = pd.DataFrame(clm.predict_proba(X_test_std)) \n",
        "\n",
        "# Create a dataframe showing actuals, predicted, and propensities \n",
        "y_pred = pd.DataFrame(y_pred)\n",
        "y_pred.reset_index(drop = True , inplace = True)\n",
        "y_test.reset_index(drop = True , inplace = True)\n",
        "results = pd.concat([y_test, y_pred, logit_propensities[1]], axis=1)\n",
        "results.columns= ['Actual','Predicted','Propensity']\n",
        "\n",
        "#Compute percentage of instances with propensities in [lower_limit,upper_limit]\n",
        "upper_limit = 0.7\n",
        "lower_limit = 0.3\n",
        "count = 0\n",
        "for i in range(0,len(logit_propensities[1])):\n",
        "  if((logit_propensities.loc[i,1] >= lower_limit) & (logit_propensities.loc[i,1] <= upper_limit)):\n",
        "    count = count + 1\n",
        "print('Percentage of test instances with propensity in [%1.2f, %1.2f]: %3.2f' % (lower_limit,upper_limit,100 * count/len(logit_propensities[1])))\n",
        "\n",
        "# Show instances where predicted and actual differ\n",
        "print('Instances for which actual and predicted differ:')\n",
        "discrepancies = results.loc[results['Actual'] != results['Predicted']]\n",
        "discrepancies"
      ],
      "metadata": {
        "colab": {
          "base_uri": "https://localhost:8080/"
        },
        "id": "CNq_6YGoToUH",
        "outputId": "aad37253-09a7-4636-8a06-8bf1fbbfa39a"
      },
      "execution_count": null,
      "outputs": [
        {
          "output_type": "stream",
          "name": "stdout",
          "text": [
            "Percentage of test instances with propensity in [0.30, 0.70]: 82.85\n",
            "Instances for which actual and predicted differ:\n"
          ]
        },
        {
          "output_type": "execute_result",
          "data": {
            "text/html": [
              "\n",
              "  <div id=\"df-28c498ad-4d5c-4e1f-b06b-6fed4c156ceb\">\n",
              "    <div class=\"colab-df-container\">\n",
              "      <div>\n",
              "<style scoped>\n",
              "    .dataframe tbody tr th:only-of-type {\n",
              "        vertical-align: middle;\n",
              "    }\n",
              "\n",
              "    .dataframe tbody tr th {\n",
              "        vertical-align: top;\n",
              "    }\n",
              "\n",
              "    .dataframe thead th {\n",
              "        text-align: right;\n",
              "    }\n",
              "</style>\n",
              "<table border=\"1\" class=\"dataframe\">\n",
              "  <thead>\n",
              "    <tr style=\"text-align: right;\">\n",
              "      <th></th>\n",
              "      <th>Actual</th>\n",
              "      <th>Predicted</th>\n",
              "      <th>Propensity</th>\n",
              "    </tr>\n",
              "  </thead>\n",
              "  <tbody>\n",
              "    <tr>\n",
              "      <th>1</th>\n",
              "      <td>1</td>\n",
              "      <td>0</td>\n",
              "      <td>0.382784</td>\n",
              "    </tr>\n",
              "    <tr>\n",
              "      <th>2</th>\n",
              "      <td>1</td>\n",
              "      <td>0</td>\n",
              "      <td>0.380910</td>\n",
              "    </tr>\n",
              "    <tr>\n",
              "      <th>5</th>\n",
              "      <td>0</td>\n",
              "      <td>1</td>\n",
              "      <td>0.585098</td>\n",
              "    </tr>\n",
              "    <tr>\n",
              "      <th>7</th>\n",
              "      <td>1</td>\n",
              "      <td>0</td>\n",
              "      <td>0.376251</td>\n",
              "    </tr>\n",
              "    <tr>\n",
              "      <th>10</th>\n",
              "      <td>1</td>\n",
              "      <td>0</td>\n",
              "      <td>0.460592</td>\n",
              "    </tr>\n",
              "    <tr>\n",
              "      <th>...</th>\n",
              "      <td>...</td>\n",
              "      <td>...</td>\n",
              "      <td>...</td>\n",
              "    </tr>\n",
              "    <tr>\n",
              "      <th>407</th>\n",
              "      <td>1</td>\n",
              "      <td>0</td>\n",
              "      <td>0.404921</td>\n",
              "    </tr>\n",
              "    <tr>\n",
              "      <th>410</th>\n",
              "      <td>0</td>\n",
              "      <td>1</td>\n",
              "      <td>0.580426</td>\n",
              "    </tr>\n",
              "    <tr>\n",
              "      <th>411</th>\n",
              "      <td>1</td>\n",
              "      <td>0</td>\n",
              "      <td>0.441271</td>\n",
              "    </tr>\n",
              "    <tr>\n",
              "      <th>412</th>\n",
              "      <td>1</td>\n",
              "      <td>0</td>\n",
              "      <td>0.466791</td>\n",
              "    </tr>\n",
              "    <tr>\n",
              "      <th>413</th>\n",
              "      <td>0</td>\n",
              "      <td>1</td>\n",
              "      <td>0.594933</td>\n",
              "    </tr>\n",
              "  </tbody>\n",
              "</table>\n",
              "<p>202 rows × 3 columns</p>\n",
              "</div>\n",
              "      <button class=\"colab-df-convert\" onclick=\"convertToInteractive('df-28c498ad-4d5c-4e1f-b06b-6fed4c156ceb')\"\n",
              "              title=\"Convert this dataframe to an interactive table.\"\n",
              "              style=\"display:none;\">\n",
              "        \n",
              "  <svg xmlns=\"http://www.w3.org/2000/svg\" height=\"24px\"viewBox=\"0 0 24 24\"\n",
              "       width=\"24px\">\n",
              "    <path d=\"M0 0h24v24H0V0z\" fill=\"none\"/>\n",
              "    <path d=\"M18.56 5.44l.94 2.06.94-2.06 2.06-.94-2.06-.94-.94-2.06-.94 2.06-2.06.94zm-11 1L8.5 8.5l.94-2.06 2.06-.94-2.06-.94L8.5 2.5l-.94 2.06-2.06.94zm10 10l.94 2.06.94-2.06 2.06-.94-2.06-.94-.94-2.06-.94 2.06-2.06.94z\"/><path d=\"M17.41 7.96l-1.37-1.37c-.4-.4-.92-.59-1.43-.59-.52 0-1.04.2-1.43.59L10.3 9.45l-7.72 7.72c-.78.78-.78 2.05 0 2.83L4 21.41c.39.39.9.59 1.41.59.51 0 1.02-.2 1.41-.59l7.78-7.78 2.81-2.81c.8-.78.8-2.07 0-2.86zM5.41 20L4 18.59l7.72-7.72 1.47 1.35L5.41 20z\"/>\n",
              "  </svg>\n",
              "      </button>\n",
              "      \n",
              "  <style>\n",
              "    .colab-df-container {\n",
              "      display:flex;\n",
              "      flex-wrap:wrap;\n",
              "      gap: 12px;\n",
              "    }\n",
              "\n",
              "    .colab-df-convert {\n",
              "      background-color: #E8F0FE;\n",
              "      border: none;\n",
              "      border-radius: 50%;\n",
              "      cursor: pointer;\n",
              "      display: none;\n",
              "      fill: #1967D2;\n",
              "      height: 32px;\n",
              "      padding: 0 0 0 0;\n",
              "      width: 32px;\n",
              "    }\n",
              "\n",
              "    .colab-df-convert:hover {\n",
              "      background-color: #E2EBFA;\n",
              "      box-shadow: 0px 1px 2px rgba(60, 64, 67, 0.3), 0px 1px 3px 1px rgba(60, 64, 67, 0.15);\n",
              "      fill: #174EA6;\n",
              "    }\n",
              "\n",
              "    [theme=dark] .colab-df-convert {\n",
              "      background-color: #3B4455;\n",
              "      fill: #D2E3FC;\n",
              "    }\n",
              "\n",
              "    [theme=dark] .colab-df-convert:hover {\n",
              "      background-color: #434B5C;\n",
              "      box-shadow: 0px 1px 3px 1px rgba(0, 0, 0, 0.15);\n",
              "      filter: drop-shadow(0px 1px 2px rgba(0, 0, 0, 0.3));\n",
              "      fill: #FFFFFF;\n",
              "    }\n",
              "  </style>\n",
              "\n",
              "      <script>\n",
              "        const buttonEl =\n",
              "          document.querySelector('#df-28c498ad-4d5c-4e1f-b06b-6fed4c156ceb button.colab-df-convert');\n",
              "        buttonEl.style.display =\n",
              "          google.colab.kernel.accessAllowed ? 'block' : 'none';\n",
              "\n",
              "        async function convertToInteractive(key) {\n",
              "          const element = document.querySelector('#df-28c498ad-4d5c-4e1f-b06b-6fed4c156ceb');\n",
              "          const dataTable =\n",
              "            await google.colab.kernel.invokeFunction('convertToInteractive',\n",
              "                                                     [key], {});\n",
              "          if (!dataTable) return;\n",
              "\n",
              "          const docLinkHtml = 'Like what you see? Visit the ' +\n",
              "            '<a target=\"_blank\" href=https://colab.research.google.com/notebooks/data_table.ipynb>data table notebook</a>'\n",
              "            + ' to learn more about interactive tables.';\n",
              "          element.innerHTML = '';\n",
              "          dataTable['output_type'] = 'display_data';\n",
              "          await google.colab.output.renderOutput(dataTable, element);\n",
              "          const docLink = document.createElement('div');\n",
              "          docLink.innerHTML = docLinkHtml;\n",
              "          element.appendChild(docLink);\n",
              "        }\n",
              "      </script>\n",
              "    </div>\n",
              "  </div>\n",
              "  "
            ],
            "text/plain": [
              "     Actual  Predicted  Propensity\n",
              "1         1          0    0.382784\n",
              "2         1          0    0.380910\n",
              "5         0          1    0.585098\n",
              "7         1          0    0.376251\n",
              "10        1          0    0.460592\n",
              "..      ...        ...         ...\n",
              "407       1          0    0.404921\n",
              "410       0          1    0.580426\n",
              "411       1          0    0.441271\n",
              "412       1          0    0.466791\n",
              "413       0          1    0.594933\n",
              "\n",
              "[202 rows x 3 columns]"
            ]
          },
          "metadata": {},
          "execution_count": 229
        }
      ]
    },
    {
      "cell_type": "code",
      "source": [
        "# In pursuit of a competitive model with a much smaller number of predictors, create a pipeline that scales, performs PCA, and fits and scores a logit model\n",
        "# Use weights to a) offset the effect of the imbalance in the target column (212 M out of 569 total), and b) emphasize that a false negative may be much worse than a false positive\n",
        "from sklearn.decomposition import PCA\n",
        "weights = {0:0.5, 1:0.5} # The weights are supposed to penalize errors in the classes. We assume that the false positives and false negatives are equal and so we\n",
        "                         # we should set the weights to be {0:0.5, 1:0.5}.   \n",
        "pipe_lr = make_pipeline(StandardScaler(),\n",
        "                        PCA(n_components=5),\n",
        "                        LogisticRegression(random_state=1,solver='sag',class_weight=weights))\n",
        "\n",
        "pipe_lr.fit(X_train_std, np.ravel(y_train))\n",
        "y_pred = pipe_lr.predict(X_test_std)\n",
        "print('Test Accuracy: %.3f' % pipe_lr.score(X_test_std, y_test))\n",
        "print(confusion_matrix(y_test,y_pred,labels=[0,1]))                           # Confusion matrix\n",
        "from sklearn.metrics import RocCurveDisplay\n",
        "\n",
        "RocCurveDisplay.from_estimator(\n",
        "        pipe_lr, X_test_std, y_test,\n",
        "    )\n"
      ],
      "metadata": {
        "colab": {
          "base_uri": "https://localhost:8080/"
        },
        "id": "he_2JW6NT8ts",
        "outputId": "c778c5ab-ce27-4c81-d8db-dcaa8b513ee9"
      },
      "execution_count": null,
      "outputs": [
        {
          "output_type": "stream",
          "name": "stdout",
          "text": [
            "Test Accuracy: 0.751\n",
            "[[  0 103]\n",
            " [  0 311]]\n"
          ]
        },
        {
          "output_type": "execute_result",
          "data": {
            "text/plain": [
              "<sklearn.metrics._plot.roc_curve.RocCurveDisplay at 0x7f95a2c69b10>"
            ]
          },
          "metadata": {},
          "execution_count": 230
        },
        {
          "output_type": "display_data",
          "data": {
            "image/png": "[encoded data removed]",
            "text/plain": [
              "<Figure size 432x288 with 1 Axes>"
            ]
          },
          "metadata": {}
        }
      ]
    },
    {
      "cell_type": "code",
      "source": [
        "# Review propensities and misclassifications from PCA solution\n",
        "pipe_lr_propensities = pd.DataFrame(clm.predict_proba(X_test_std)) \n",
        "\n",
        "# Create a dataframe showing actuals, predicted, and propensities \n",
        "y_pred = pd.DataFrame(y_pred)\n",
        "y_pred.reset_index(drop = True , inplace = True)\n",
        "y_test.reset_index(drop = True , inplace = True)\n",
        "results = pd.concat([y_test, y_pred, pipe_lr_propensities[1]], axis=1)\n",
        "results.columns= ['Actual','Predicted','Propensity']\n",
        "\n",
        "#Compute percentage of instances with propensities in [lower_limit,upper_limit]\n",
        "upper_limit = 0.7\n",
        "lower_limit = 0.3\n",
        "count = 0\n",
        "for i in range(0,len(pipe_lr_propensities[1])):\n",
        "  if((pipe_lr_propensities.loc[i,1] >= lower_limit) & (pipe_lr_propensities.loc[i,1] <= upper_limit)):\n",
        "    count = count + 1\n",
        "print('Percentage of test instances with propensity in [%1.2f, %1.2f]: %3.2f' % (lower_limit,upper_limit,100 * count/len(pipe_lr_propensities[1])))\n",
        "\n",
        "# Show instances where predicted and actual differ\n",
        "print('Instances for which actual and predicted differ:')\n",
        "discrepancies = results.loc[results['Actual'] != results['Predicted']]\n",
        "discrepancies\n"
      ],
      "metadata": {
        "colab": {
          "base_uri": "https://localhost:8080/"
        },
        "id": "F0ZO6eA4VCCV",
        "outputId": "d45a52c5-8071-4ac6-d9b8-06380230ea25"
      },
      "execution_count": null,
      "outputs": [
        {
          "output_type": "stream",
          "name": "stdout",
          "text": [
            "Percentage of test instances with propensity in [0.30, 0.70]: 82.85\n",
            "Instances for which actual and predicted differ:\n"
          ]
        },
        {
          "output_type": "execute_result",
          "data": {
            "text/html": [
              "\n",
              "  <div id=\"df-c4035da9-c152-43e6-8b92-4dac9633f1fd\">\n",
              "    <div class=\"colab-df-container\">\n",
              "      <div>\n",
              "<style scoped>\n",
              "    .dataframe tbody tr th:only-of-type {\n",
              "        vertical-align: middle;\n",
              "    }\n",
              "\n",
              "    .dataframe tbody tr th {\n",
              "        vertical-align: top;\n",
              "    }\n",
              "\n",
              "    .dataframe thead th {\n",
              "        text-align: right;\n",
              "    }\n",
              "</style>\n",
              "<table border=\"1\" class=\"dataframe\">\n",
              "  <thead>\n",
              "    <tr style=\"text-align: right;\">\n",
              "      <th></th>\n",
              "      <th>Actual</th>\n",
              "      <th>Predicted</th>\n",
              "      <th>Propensity</th>\n",
              "    </tr>\n",
              "  </thead>\n",
              "  <tbody>\n",
              "    <tr>\n",
              "      <th>0</th>\n",
              "      <td>0</td>\n",
              "      <td>1</td>\n",
              "      <td>0.391379</td>\n",
              "    </tr>\n",
              "    <tr>\n",
              "      <th>5</th>\n",
              "      <td>0</td>\n",
              "      <td>1</td>\n",
              "      <td>0.585098</td>\n",
              "    </tr>\n",
              "    <tr>\n",
              "      <th>6</th>\n",
              "      <td>0</td>\n",
              "      <td>1</td>\n",
              "      <td>0.370871</td>\n",
              "    </tr>\n",
              "    <tr>\n",
              "      <th>11</th>\n",
              "      <td>0</td>\n",
              "      <td>1</td>\n",
              "      <td>0.596621</td>\n",
              "    </tr>\n",
              "    <tr>\n",
              "      <th>12</th>\n",
              "      <td>0</td>\n",
              "      <td>1</td>\n",
              "      <td>0.385186</td>\n",
              "    </tr>\n",
              "    <tr>\n",
              "      <th>...</th>\n",
              "      <td>...</td>\n",
              "      <td>...</td>\n",
              "      <td>...</td>\n",
              "    </tr>\n",
              "    <tr>\n",
              "      <th>388</th>\n",
              "      <td>0</td>\n",
              "      <td>1</td>\n",
              "      <td>0.477550</td>\n",
              "    </tr>\n",
              "    <tr>\n",
              "      <th>390</th>\n",
              "      <td>0</td>\n",
              "      <td>1</td>\n",
              "      <td>0.578206</td>\n",
              "    </tr>\n",
              "    <tr>\n",
              "      <th>399</th>\n",
              "      <td>0</td>\n",
              "      <td>1</td>\n",
              "      <td>0.697592</td>\n",
              "    </tr>\n",
              "    <tr>\n",
              "      <th>410</th>\n",
              "      <td>0</td>\n",
              "      <td>1</td>\n",
              "      <td>0.580426</td>\n",
              "    </tr>\n",
              "    <tr>\n",
              "      <th>413</th>\n",
              "      <td>0</td>\n",
              "      <td>1</td>\n",
              "      <td>0.594933</td>\n",
              "    </tr>\n",
              "  </tbody>\n",
              "</table>\n",
              "<p>103 rows × 3 columns</p>\n",
              "</div>\n",
              "      <button class=\"colab-df-convert\" onclick=\"convertToInteractive('df-c4035da9-c152-43e6-8b92-4dac9633f1fd')\"\n",
              "              title=\"Convert this dataframe to an interactive table.\"\n",
              "              style=\"display:none;\">\n",
              "        \n",
              "  <svg xmlns=\"http://www.w3.org/2000/svg\" height=\"24px\"viewBox=\"0 0 24 24\"\n",
              "       width=\"24px\">\n",
              "    <path d=\"M0 0h24v24H0V0z\" fill=\"none\"/>\n",
              "    <path d=\"M18.56 5.44l.94 2.06.94-2.06 2.06-.94-2.06-.94-.94-2.06-.94 2.06-2.06.94zm-11 1L8.5 8.5l.94-2.06 2.06-.94-2.06-.94L8.5 2.5l-.94 2.06-2.06.94zm10 10l.94 2.06.94-2.06 2.06-.94-2.06-.94-.94-2.06-.94 2.06-2.06.94z\"/><path d=\"M17.41 7.96l-1.37-1.37c-.4-.4-.92-.59-1.43-.59-.52 0-1.04.2-1.43.59L10.3 9.45l-7.72 7.72c-.78.78-.78 2.05 0 2.83L4 21.41c.39.39.9.59 1.41.59.51 0 1.02-.2 1.41-.59l7.78-7.78 2.81-2.81c.8-.78.8-2.07 0-2.86zM5.41 20L4 18.59l7.72-7.72 1.47 1.35L5.41 20z\"/>\n",
              "  </svg>\n",
              "      </button>\n",
              "      \n",
              "  <style>\n",
              "    .colab-df-container {\n",
              "      display:flex;\n",
              "      flex-wrap:wrap;\n",
              "      gap: 12px;\n",
              "    }\n",
              "\n",
              "    .colab-df-convert {\n",
              "      background-color: #E8F0FE;\n",
              "      border: none;\n",
              "      border-radius: 50%;\n",
              "      cursor: pointer;\n",
              "      display: none;\n",
              "      fill: #1967D2;\n",
              "      height: 32px;\n",
              "      padding: 0 0 0 0;\n",
              "      width: 32px;\n",
              "    }\n",
              "\n",
              "    .colab-df-convert:hover {\n",
              "      background-color: #E2EBFA;\n",
              "      box-shadow: 0px 1px 2px rgba(60, 64, 67, 0.3), 0px 1px 3px 1px rgba(60, 64, 67, 0.15);\n",
              "      fill: #174EA6;\n",
              "    }\n",
              "\n",
              "    [theme=dark] .colab-df-convert {\n",
              "      background-color: #3B4455;\n",
              "      fill: #D2E3FC;\n",
              "    }\n",
              "\n",
              "    [theme=dark] .colab-df-convert:hover {\n",
              "      background-color: #434B5C;\n",
              "      box-shadow: 0px 1px 3px 1px rgba(0, 0, 0, 0.15);\n",
              "      filter: drop-shadow(0px 1px 2px rgba(0, 0, 0, 0.3));\n",
              "      fill: #FFFFFF;\n",
              "    }\n",
              "  </style>\n",
              "\n",
              "      <script>\n",
              "        const buttonEl =\n",
              "          document.querySelector('#df-c4035da9-c152-43e6-8b92-4dac9633f1fd button.colab-df-convert');\n",
              "        buttonEl.style.display =\n",
              "          google.colab.kernel.accessAllowed ? 'block' : 'none';\n",
              "\n",
              "        async function convertToInteractive(key) {\n",
              "          const element = document.querySelector('#df-c4035da9-c152-43e6-8b92-4dac9633f1fd');\n",
              "          const dataTable =\n",
              "            await google.colab.kernel.invokeFunction('convertToInteractive',\n",
              "                                                     [key], {});\n",
              "          if (!dataTable) return;\n",
              "\n",
              "          const docLinkHtml = 'Like what you see? Visit the ' +\n",
              "            '<a target=\"_blank\" href=https://colab.research.google.com/notebooks/data_table.ipynb>data table notebook</a>'\n",
              "            + ' to learn more about interactive tables.';\n",
              "          element.innerHTML = '';\n",
              "          dataTable['output_type'] = 'display_data';\n",
              "          await google.colab.output.renderOutput(dataTable, element);\n",
              "          const docLink = document.createElement('div');\n",
              "          docLink.innerHTML = docLinkHtml;\n",
              "          element.appendChild(docLink);\n",
              "        }\n",
              "      </script>\n",
              "    </div>\n",
              "  </div>\n",
              "  "
            ],
            "text/plain": [
              "     Actual  Predicted  Propensity\n",
              "0         0          1    0.391379\n",
              "5         0          1    0.585098\n",
              "6         0          1    0.370871\n",
              "11        0          1    0.596621\n",
              "12        0          1    0.385186\n",
              "..      ...        ...         ...\n",
              "388       0          1    0.477550\n",
              "390       0          1    0.578206\n",
              "399       0          1    0.697592\n",
              "410       0          1    0.580426\n",
              "413       0          1    0.594933\n",
              "\n",
              "[103 rows x 3 columns]"
            ]
          },
          "metadata": {},
          "execution_count": 231
        }
      ]
    },
    {
      "cell_type": "code",
      "source": [
        "# Add cross-validation\n",
        "weights = {0:0.5, 1:0.5} # The weights are supposed to penalize errors in the classes. We assume that the false positives and false negatives are equal and so we\n",
        "                         # we should set the weights to be {0:0.5, 1:0.5}.    \n",
        "pipe_lr = make_pipeline(StandardScaler(),\n",
        "                        PCA(n_components=5),\n",
        "                        LogisticRegression(random_state=1,solver='sag',class_weight=weights))\n",
        "\n",
        "scores = cross_val_score(pipe_lr, X, y, cv=5, n_jobs = -1,scoring='roc_auc')\n",
        "print('CV AUC scores: {}'.format(scores))\n",
        "print('CV AUC mean: {} and std deviation: {}'.format(np.mean(scores), np.std(scores)))\n",
        "\n",
        "scores = cross_val_score(pipe_lr, X, y, cv=5, n_jobs = -1,scoring='recall')\n",
        "print('CV recall scores: {}'.format(scores))\n",
        "print('CV recall mean: {} and std deviation: {}'.format(np.mean(scores), np.std(scores)))\n",
        "\n",
        "scores = cross_val_score(pipe_lr, X, y, cv=5, n_jobs = -1)\n",
        "print('CV accuracy scores: {}'.format(scores))\n",
        "print('CV accuracy mean: {} and std deviation: {}'.format(np.mean(scores), np.std(scores)))"
      ],
      "metadata": {
        "colab": {
          "base_uri": "https://localhost:8080/"
        },
        "id": "lNAJK5w_VWQz",
        "outputId": "75b0c49c-dad6-4ef6-e627-f8eb1c7c457d"
      },
      "execution_count": null,
      "outputs": [
        {
          "output_type": "stream",
          "name": "stdout",
          "text": [
            "CV AUC scores: [0.61057347 0.610302   0.61695353 0.64221735 0.67124961]\n",
            "CV AUC mean: 0.6302591925037457 and std deviation: 0.023605378685295744\n",
            "CV recall scores: [1. 1. 1. 1. 1.]\n",
            "CV recall mean: 1.0 and std deviation: 0.0\n",
            "CV accuracy scores: [0.75120773 0.75302663 0.75302663 0.75060533 0.75060533]\n",
            "CV accuracy mean: 0.7516943303973517 and std deviation: 0.001109838332253735\n"
          ]
        }
      ]
    },
    {
      "cell_type": "markdown",
      "source": [
        "#**Other Classifiers**"
      ],
      "metadata": {
        "id": "O8niEbDXVyTH"
      }
    },
    {
      "cell_type": "code",
      "source": [
        "# Try other classifiers\n",
        "\n",
        "names = [\"Decision Tree\", \"k Nearest Neighbors\", \"SVM\", \"MLP\", \"Random Forest\", \"XGBoost\", \"Light GBM\"]\n",
        "classifiers = [ \n",
        "    DecisionTreeClassifier(max_depth=5),\n",
        "    KNeighborsClassifier(3),\n",
        "    SVC(),\n",
        "    MLPClassifier(hidden_layer_sizes=(20,20),alpha=1, max_iter=500),\n",
        "    RandomForestClassifier(random_state=0, n_jobs=-1, n_estimators=100, max_depth=3),\n",
        "    XGBClassifier(random_state=0, n_jobs=-1, learning_rate=0.1, \n",
        "                  n_estimators=100, max_depth=3),\n",
        "    LGBMClassifier(boosting_type='gbdt', objective='binary', num_leaves=50,\n",
        "                                learning_rate=0.1, bagging_fraction=0.9, feature_fraction=0.9, reg_lambda=0.2)]\n",
        "\n",
        "for name, clf in zip(names, classifiers):\n",
        "  pipe_many = make_pipeline(StandardScaler(),\n",
        "                        PCA(n_components=5),\n",
        "                        clf)\n",
        "  scores = cross_val_score(estimator=pipe_many,\n",
        "                             X=X_train,\n",
        "                             y=np.ravel(y_train),\n",
        "                             cv=10,     #Reduced to three folds for execution speed\n",
        "                             n_jobs=1,\n",
        "                            scoring='roc_auc')\n",
        "  print(\"Classifier: \",name)\n",
        "  print('CV AUC scores: {}'.format(scores))\n",
        "  print('CV AUC mean:{} and std:{}'.format(np.mean(scores), np.std(scores)))\n",
        "  print(\"\\n\\n\")"
      ],
      "metadata": {
        "colab": {
          "base_uri": "https://localhost:8080/"
        },
        "id": "T5-KEcT1VzX2",
        "outputId": "89b0f99a-cfcb-4d60-a7f5-89883791c10c"
      },
      "execution_count": null,
      "outputs": [
        {
          "output_type": "stream",
          "name": "stdout",
          "text": [
            "Classifier:  Decision Tree\n",
            "CV AUC scores: [0.57990244 0.48312195 0.61585366 0.502262   0.63453973 0.59598741\n",
            " 0.62214792 0.60503541 0.59687254 0.62795043]\n",
            "CV AUC mean:0.5863673485444532 and std:0.04952367206493443\n",
            "\n",
            "\n",
            "\n",
            "Classifier:  k Nearest Neighbors\n",
            "CV AUC scores: [0.43102439 0.46907317 0.47020063 0.51780094 0.5395358  0.50059009\n",
            " 0.58949646 0.49488592 0.44708891 0.52350511]\n",
            "CV AUC mean:0.4983201416207711 and std:0.04454439612812467\n",
            "\n",
            "\n",
            "\n",
            "Classifier:  SVM\n",
            "CV AUC scores: [0.58263415 0.56721951 0.58654603 0.53304485 0.51160504 0.51573564\n",
            " 0.59913454 0.61319827 0.52517703 0.46036585]\n",
            "CV AUC mean:0.549466089693155 and std:0.045484768695043434\n",
            "\n",
            "\n",
            "\n",
            "Classifier:  MLP\n",
            "CV AUC scores: [0.60702439 0.58497561 0.66266719 0.6007081  0.63355625 0.61585366\n",
            " 0.66601101 0.65607789 0.65391424 0.64604642]\n",
            "CV AUC mean:0.6326834775767113 and std:0.027252923616006113\n",
            "\n",
            "\n",
            "\n",
            "Classifier:  Random Forest\n",
            "CV AUC scores: [0.55541463 0.57443902 0.65942172 0.57848151 0.6404406  0.61319827\n",
            " 0.67220692 0.64614477 0.67466562 0.64860346]\n",
            "CV AUC mean:0.6263016522423288 and std:0.04099695293082642\n",
            "\n",
            "\n",
            "\n",
            "Classifier:  XGBoost\n",
            "CV AUC scores: [0.54429268 0.52243902 0.64014555 0.56766326 0.57838316 0.57543273\n",
            " 0.62696696 0.59421715 0.62411487 0.59549567]\n",
            "CV AUC mean:0.5869151062155783 and std:0.0353518153392564\n",
            "\n",
            "\n",
            "\n",
            "Classifier:  Light GBM\n",
            "CV AUC scores: [0.47395122 0.5075122  0.49665618 0.48878836 0.49468922 0.50354052\n",
            " 0.5220299  0.58821794 0.4757081  0.43440205]\n",
            "CV AUC mean:0.4985495672698662 and std:0.037486617866819186\n",
            "\n",
            "\n",
            "\n"
          ]
        }
      ]
    },
    {
      "cell_type": "markdown",
      "source": [
        "The leaderboard is now as follows:\n",
        "Classifier performance results are ordered by AUC.\n",
        "\n",
        "|**Classifier** |    AUC    |\n",
        "|:----------------------|:------------:|\n",
        "|Random Forest | 0.616 |\n",
        "|Multilayer Perceptron | 0.629 |\n",
        "|Decisiom Tree | 0.577 |\n",
        "|Support Vector Machine | 0.531 |\n",
        "|LightGBM | 0.491 |\n",
        "|XGBoost | 0.574 |\n",
        "|kNN | 0.492 |\n",
        "\n",
        "We find the Logistic Regression performed better than all of the above "
      ],
      "metadata": {
        "id": "b0hyLxGzWKdd"
      }
    },
    {
      "cell_type": "markdown",
      "source": [
        "#**Oversampling with SMOTE**"
      ],
      "metadata": {
        "id": "6gaX5729XehM"
      }
    },
    {
      "cell_type": "code",
      "source": [
        "# Try SMOTE with cross validation using a logit model\n",
        "# Borrowing code from https://towardsdatascience.com/the-right-way-of-using-smote-with-cross-validation-92a8d09d00c7\n",
        "X_train, X_test, y_train, y_test = train_test_split(X,\n",
        "                                                    y,\n",
        "                                                    test_size=0.2,\n",
        "                                                    stratify=y,\n",
        "                                                    random_state=17)\n",
        "sm = SMOTE(random_state=17)\n",
        "X_train_SMOTE, y_train_SMOTE = sm.fit_resample(X_train, y_train)\n",
        "\n",
        "print(\"Shape before SMOTE: \", X_train.shape, y_train.shape, \"\\n\")\n",
        "print(\"Shape after SMOTE: \", X_train_SMOTE.shape, y_train_SMOTE.shape, \"\\n\")\n",
        "\n",
        "pipeline = imbpipeline(steps = [['smote', SMOTE(random_state=17)],\n",
        "                                ['scaler', StandardScaler()],    \n",
        "                                ['pca', PCA(n_components = 5)],\n",
        "                                ['classifier', LogisticRegression(random_state=17,\n",
        "                                                                  max_iter=1000)]])\n",
        "\n",
        "stratified_kfold = StratifiedKFold(n_splits=5,\n",
        "                                       shuffle=True,\n",
        "                                       random_state=11)\n",
        "    \n",
        "param_grid = {'classifier__C':[0.001, 0.01, 0.1, 1, 10, 100, 1000]}\n",
        "grid_search = GridSearchCV(estimator=pipeline,\n",
        "                           param_grid=param_grid,\n",
        "                           scoring='roc_auc',    \n",
        "                           cv=stratified_kfold,\n",
        "                           n_jobs=-1)\n",
        "\n",
        "grid_search.fit(X_train, np.ravel(y_train))\n",
        "test_score = grid_search.score(X_test, y_test)\n",
        "\n",
        "print(f'Test set ROC score: {test_score}')\n",
        "\n",
        "\n",
        "print(grid_search.best_params_)\n",
        "print(grid_search.best_estimator_)"
      ],
      "metadata": {
        "colab": {
          "base_uri": "https://localhost:8080/"
        },
        "id": "4xyE2zITXfwD",
        "outputId": "517e73f1-e19c-402f-f829-11c0f301d7b3"
      },
      "execution_count": null,
      "outputs": [
        {
          "output_type": "stream",
          "name": "stdout",
          "text": [
            "Shape before SMOTE:  (1652, 19) (1652,) \n",
            "\n",
            "Shape after SMOTE:  (2484, 19) (2484,) \n",
            "\n",
            "Test set ROC score: 0.631739144007742\n",
            "{'classifier__C': 0.001}\n",
            "Pipeline(steps=[('smote', SMOTE(random_state=17)), ('scaler', StandardScaler()),\n",
            "                ('pca', PCA(n_components=5)),\n",
            "                ['classifier',\n",
            "                 LogisticRegression(C=0.001, max_iter=1000, random_state=17)]])\n"
          ]
        }
      ]
    },
    {
      "cell_type": "code",
      "source": [
        "# Count good and bad \n",
        "y_train_SMOTE.value_counts().plot.bar()\n",
        "y_train_SMOTE.value_counts()"
      ],
      "metadata": {
        "colab": {
          "base_uri": "https://localhost:8080/",
          "height": 314
        },
        "id": "ylEE2TfxZ-wj",
        "outputId": "e6e5d8f7-4969-4e84-fdd8-26bc528857cb"
      },
      "execution_count": null,
      "outputs": [
        {
          "output_type": "execute_result",
          "data": {
            "text/plain": [
              "1    1242\n",
              "0    1242\n",
              "Name: good_bad_flag, dtype: int64"
            ]
          },
          "metadata": {},
          "execution_count": 236
        },
        {
          "output_type": "display_data",
          "data": {
            "image/png": "[encoded data removed]",
            "text/plain": [
              "<Figure size 432x288 with 1 Axes>"
            ]
          },
          "metadata": {}
        }
      ]
    },
    {
      "cell_type": "code",
      "source": [
        "from sklearn.feature_selection import RFE\n",
        "rfe = RFE(estimator=RandomForestClassifier(), n_features_to_select=10)    #Selecting the top n features, from about 70, to improve model robustness.\n",
        "j = rfe.fit(X_train,y_train)\n",
        "print('Important Features\\n',X.columns[rfe.support_])\n",
        "rf = RandomForestClassifier()\n",
        "j = rf.fit(rfe.transform(X_train), y_train)\n",
        "print(\"\\n Accuracy: \",rf.score(rfe.transform(X_test), y_test))"
      ],
      "metadata": {
        "colab": {
          "base_uri": "https://localhost:8080/"
        },
        "id": "g628e8qihhFs",
        "outputId": "008c6a58-8307-4da5-e65a-6d6f1d1fd503"
      },
      "execution_count": null,
      "outputs": [
        {
          "output_type": "stream",
          "name": "stdout",
          "text": [
            "Important Features\n",
            " Index(['loanamount', 'totaldue', 'termdays', 'Age', 'Location_Cluster',\n",
            "       'bank_name_clients_GT Bank', 'bank_name_clients_OTHER',\n",
            "       'employment_status_clients_Permanent', 'bank_account_type_Savings',\n",
            "       'level_of_education_clients_Graduate'],\n",
            "      dtype='object')\n",
            "\n",
            " Accuracy:  0.6271186440677966\n"
          ]
        }
      ]
    },
    {
      "cell_type": "code",
      "source": [
        "#Try other classifiers with SMOTE and cross validation\n",
        "names = [\"Decision Tree\", \"k Nearest Neighbors\", \"SVM\", \"MLP\", \"Random Forest\", \"XGBoost\", \"Light GBM\"]\n",
        "classifiers = [  \n",
        "    DecisionTreeClassifier(max_depth=5),\n",
        "    KNeighborsClassifier(3),\n",
        "    MLPClassifier(hidden_layer_sizes=(20,20),alpha=1, max_iter=500),\n",
        "    SVC(),\n",
        "    RandomForestClassifier(random_state=0, n_jobs=-1, n_estimators=100, max_depth=3),\n",
        "    XGBClassifier(random_state=0, n_jobs=-1, learning_rate=0.1, \n",
        "                  n_estimators=100, max_depth=3),\n",
        "    LGBMClassifier(boosting_type='gbdt', objective='binary', num_leaves=50,\n",
        "                                learning_rate=0.1, bagging_fraction=0.9, feature_fraction=0.9, reg_lambda=0.2)]\n",
        "\n",
        "# Build each classifier using the unbalanced TRAINING data, show decision region and petrformance of the unbalanced TEST data \n",
        "no_folds = 5 # number of folds desired for cross validation\n",
        "kf = StratifiedKFold(n_splits=no_folds, shuffle=True, random_state=12345)\n",
        "for name, clf in zip(names, classifiers):\n",
        "  print('CLASSIFIER: ',name,'\\n')\n",
        "  mean_accuracy = 0.0\n",
        "  mean_recall = 0.0\n",
        "  mean_auc = 0.0\n",
        "  for fold, (train_index, test_index) in enumerate(kf.split(X,y),1):\n",
        "    X_train, X_test = X.iloc[list(train_index)], X.iloc[list(test_index)]\n",
        "    y_train, y_test = y.iloc[list(train_index)], y.iloc[list(test_index)] \n",
        "    sm = SMOTE()\n",
        "    X_train_SMOTE, y_train_SMOTE = sm.fit_resample(X_train, np.ravel(y_train))\n",
        "    stdsc = StandardScaler()  \n",
        "    X_train_SMOTE_std = stdsc.fit_transform(X_train_SMOTE)   \n",
        "    X_test_std = stdsc.transform(X_test)  \n",
        "    pca = PCA()\n",
        "    X_train_pca=pca.fit_transform(X_train_SMOTE_std)\n",
        "    X_test_pca=pca.transform(X_test_std)\n",
        "    clf.fit(X_train_pca, np.ravel(y_train_SMOTE)) \n",
        "    y_pred = clf.predict(X_test_pca)\n",
        "    print(f'For fold {fold}:')\n",
        "    print(f'Accuracy: {clf.score(X_test_pca, y_test)}')\n",
        "    print(f'Recall: {recall_score(y_test, y_pred)}')\n",
        "    print(f'AUC: {roc_auc_score(y_test, y_pred)}')\n",
        "    mean_accuracy = mean_accuracy + clf.score(X_test_pca, y_test)\n",
        "    mean_recall = mean_recall + recall_score(y_test, y_pred)\n",
        "    mean_auc = mean_auc + roc_auc_score(y_test, y_pred)\n",
        "  mean_accuracy = mean_accuracy / no_folds\n",
        "  mean_recall = mean_recall / no_folds\n",
        "  mean_auc = mean_auc / no_folds\n",
        "  print('Average accuracy: %.3f Average recall: %.3f Average AUC: %.3f\\n\\n' % (mean_accuracy, mean_recall, mean_auc))"
      ],
      "metadata": {
        "colab": {
          "base_uri": "https://localhost:8080/"
        },
        "id": "AOiU7uyFYYAW",
        "outputId": "90866222-fcb8-49b3-d711-bc4b11e4c6c0"
      },
      "execution_count": null,
      "outputs": [
        {
          "output_type": "stream",
          "name": "stdout",
          "text": [
            "CLASSIFIER:  Decision Tree \n",
            "\n",
            "For fold 1:\n",
            "Accuracy: 0.6763285024154589\n",
            "Recall: 0.7717041800643086\n",
            "AUC: 0.5800268473137077\n",
            "For fold 2:\n",
            "Accuracy: 0.7142857142857143\n",
            "Recall: 0.9131832797427653\n",
            "AUC: 0.5105132084988336\n",
            "For fold 3:\n",
            "Accuracy: 0.711864406779661\n",
            "Recall: 0.8745980707395499\n",
            "AUC: 0.5451421726246769\n",
            "For fold 4:\n",
            "Accuracy: 0.7312348668280871\n",
            "Recall: 0.9096774193548387\n",
            "AUC: 0.551926088318196\n",
            "For fold 5:\n",
            "Accuracy: 0.711864406779661\n",
            "Recall: 0.8612903225806452\n",
            "AUC: 0.5617131224553711\n",
            "Average accuracy: 0.709 Average recall: 0.866 Average AUC: 0.550\n",
            "\n",
            "\n",
            "CLASSIFIER:  k Nearest Neighbors \n",
            "\n",
            "For fold 1:\n",
            "Accuracy: 0.6666666666666666\n",
            "Recall: 0.8102893890675241\n",
            "AUC: 0.5216495489026941\n",
            "For fold 2:\n",
            "Accuracy: 0.5956416464891041\n",
            "Recall: 0.7427652733118971\n",
            "AUC: 0.44491204842065446\n",
            "For fold 3:\n",
            "Accuracy: 0.6464891041162227\n",
            "Recall: 0.7877813504823151\n",
            "AUC: 0.5017338124960595\n",
            "For fold 4:\n",
            "Accuracy: 0.612590799031477\n",
            "Recall: 0.7774193548387097\n",
            "AUC: 0.4469621046038208\n",
            "For fold 5:\n",
            "Accuracy: 0.6440677966101694\n",
            "Recall: 0.8161290322580645\n",
            "AUC: 0.47117131224553715\n",
            "Average accuracy: 0.633 Average recall: 0.787 Average AUC: 0.477\n",
            "\n",
            "\n",
            "CLASSIFIER:  SVM \n",
            "\n",
            "For fold 1:\n",
            "Accuracy: 0.7367149758454107\n",
            "Recall: 0.9196141479099679\n",
            "AUC: 0.5520400836637218\n",
            "For fold 2:\n",
            "Accuracy: 0.6731234866828087\n",
            "Recall: 0.8263665594855305\n",
            "AUC: 0.5161244562133536\n",
            "For fold 3:\n",
            "Accuracy: 0.7191283292978208\n",
            "Recall: 0.8585209003215434\n",
            "AUC: 0.5763192736901834\n",
            "For fold 4:\n",
            "Accuracy: 0.7021791767554479\n",
            "Recall: 0.8838709677419355\n",
            "AUC: 0.5196053867835891\n",
            "For fold 5:\n",
            "Accuracy: 0.7142857142857143\n",
            "Recall: 0.8580645161290322\n",
            "AUC: 0.5698089570936423\n",
            "Average accuracy: 0.709 Average recall: 0.869 Average AUC: 0.547\n",
            "\n",
            "\n",
            "CLASSIFIER:  MLP \n",
            "\n",
            "For fold 1:\n",
            "Accuracy: 0.7560386473429952\n",
            "Recall: 0.9742765273311897\n",
            "AUC: 0.5356819529859832\n",
            "For fold 2:\n",
            "Accuracy: 0.6852300242130751\n",
            "Recall: 0.8488745980707395\n",
            "AUC: 0.5175745539373305\n",
            "For fold 3:\n",
            "Accuracy: 0.7312348668280871\n",
            "Recall: 0.8971061093247589\n",
            "AUC: 0.5612981527015951\n",
            "For fold 4:\n",
            "Accuracy: 0.7312348668280871\n",
            "Recall: 0.9225806451612903\n",
            "AUC: 0.5389602254932665\n",
            "For fold 5:\n",
            "Accuracy: 0.7142857142857143\n",
            "Recall: 0.9032258064516129\n",
            "AUC: 0.524428437206389\n",
            "Average accuracy: 0.724 Average recall: 0.909 Average AUC: 0.536\n",
            "\n",
            "\n",
            "CLASSIFIER:  Random Forest \n",
            "\n",
            "For fold 1:\n",
            "Accuracy: 0.751207729468599\n",
            "Recall: 1.0\n",
            "AUC: 0.5\n",
            "For fold 2:\n",
            "Accuracy: 0.7530266343825666\n",
            "Recall: 1.0\n",
            "AUC: 0.5\n",
            "For fold 3:\n",
            "Accuracy: 0.7530266343825666\n",
            "Recall: 1.0\n",
            "AUC: 0.5\n",
            "For fold 4:\n",
            "Accuracy: 0.7506053268765133\n",
            "Recall: 1.0\n",
            "AUC: 0.5\n",
            "For fold 5:\n",
            "Accuracy: 0.7481840193704601\n",
            "Recall: 0.9967741935483871\n",
            "AUC: 0.49838709677419357\n",
            "Average accuracy: 0.751 Average recall: 0.999 Average AUC: 0.500\n",
            "\n",
            "\n",
            "CLASSIFIER:  XGBoost \n",
            "\n",
            "For fold 1:\n",
            "Accuracy: 0.717391304347826\n",
            "Recall: 0.864951768488746\n",
            "AUC: 0.5683982143414603\n",
            "For fold 2:\n",
            "Accuracy: 0.6997578692493946\n",
            "Recall: 0.8553054662379421\n",
            "AUC: 0.5403978311581867\n",
            "For fold 3:\n",
            "Accuracy: 0.7094430992736077\n",
            "Recall: 0.8520900321543409\n",
            "AUC: 0.5632999180379548\n",
            "For fold 4:\n",
            "Accuracy: 0.7142857142857143\n",
            "Recall: 0.9129032258064517\n",
            "AUC: 0.5147040400876919\n",
            "For fold 5:\n",
            "Accuracy: 0.6997578692493946\n",
            "Recall: 0.867741935483871\n",
            "AUC: 0.5309583463827122\n",
            "Average accuracy: 0.708 Average recall: 0.871 Average AUC: 0.544\n",
            "\n",
            "\n",
            "CLASSIFIER:  Light GBM \n",
            "\n",
            "For fold 1:\n",
            "Accuracy: 0.6256038647342995\n",
            "Recall: 0.7942122186495176\n",
            "AUC: 0.45535853650922475\n",
            "For fold 2:\n",
            "Accuracy: 0.6101694915254238\n",
            "Recall: 0.7459807073954984\n",
            "AUC: 0.47102956938402374\n",
            "For fold 3:\n",
            "Accuracy: 0.6246973365617433\n",
            "Recall: 0.7877813504823151\n",
            "AUC: 0.457616165437236\n",
            "For fold 4:\n",
            "Accuracy: 0.6150121065375302\n",
            "Recall: 0.8\n",
            "AUC: 0.429126213592233\n",
            "For fold 5:\n",
            "Accuracy: 0.6319612590799032\n",
            "Recall: 0.8032258064516129\n",
            "AUC: 0.45986533041027244\n",
            "Average accuracy: 0.621 Average recall: 0.786 Average AUC: 0.455\n",
            "\n",
            "\n"
          ]
        }
      ]
    },
    {
      "cell_type": "markdown",
      "source": [
        "The leaderboard is now as follows:\n",
        "\n",
        "|**Classifier** |    AUC    |       Accuracy      |    Recall    |\n",
        "|:----------------------|:------------:|:--------------:|:-------------:|\n",
        "|Random Forest | 0.500 | 0.751 |0.997 |\n",
        "|Multilayer Perceptron | 0.517 | 0.721 | 0.922 |\n",
        "|Decision Tree | 0.549 | 0.712 |0.873 |\n",
        "|Support Vector Machine | 0.538 | 0.701 | 0.862 |\n",
        "|LightGBM | 0.442 |  0.603 | 0.762 |\n",
        "|XGBoost | 0.543 | 0.708 | 0.870 |\n",
        "|kNN | 0.465 | 0.620 | 0.772 |\n",
        "\n",
        "Again, we find that the logistic regression models worked better than the above classifiers. \n"
      ],
      "metadata": {
        "id": "kdAod5ObdRJD"
      }
    },
    {
      "cell_type": "code",
      "source": [
        "# There are likely a number of classifiers in the Rashomon Set\n",
        "# We'll pick the random forest model and optimize the hyperparameters\n",
        "# We select Random Forest because it has the higezst accuracy\n",
        "\n",
        "RF_params = {'criterion':['gini','entropy'],'max_depth':[7,10,15],'class_weight':[{0:0.1, 1:0.9}, {0:0.15, 1:0.85}, {0:0.2, 1:0.8}, {0:0.25, 1:0.75}]}\n",
        "clf = GridSearchCV(RandomForestClassifier(oob_score=True), RF_params, cv=3,scoring='roc_auc')\n",
        "clf.fit(X_train_SMOTE_std, np.ravel(y_train_SMOTE))\n",
        "y_pred = clf.predict(X_test_std)\n",
        "print(confusion_matrix(y_test, y_pred))\n",
        "print(clf.best_params_, clf.best_score_)\n",
        "print(\"Accuracy = \",accuracy_score(y_test, y_pred))\n",
        "print(\"Recall = \",recall_score(y_test, y_pred))"
      ],
      "metadata": {
        "id": "o4LcbH65dSks",
        "colab": {
          "base_uri": "https://localhost:8080/"
        },
        "outputId": "fb7ff8e3-5dbd-4495-b6b9-7e1ad661374a"
      },
      "execution_count": null,
      "outputs": [
        {
          "output_type": "stream",
          "name": "stdout",
          "text": [
            "[[  8  95]\n",
            " [ 41 269]]\n",
            "{'class_weight': {0: 0.25, 1: 0.75}, 'criterion': 'entropy', 'max_depth': 15} 0.8343450817904398\n",
            "Accuracy =  0.6707021791767555\n",
            "Recall =  0.867741935483871\n"
          ]
        }
      ]
    },
    {
      "cell_type": "code",
      "source": [
        "# Review propensities and misclassifications from PCA solution\n",
        "clf = RandomForestClassifier(oob_score=True,class_weight= {0: 0.2, 1: 0.8}, criterion='gini',max_depth=7)\n",
        "clf_propensities = pd.DataFrame(clf.fit(X_train_SMOTE_std, np.ravel(y_train_SMOTE)).predict_proba(X_test_std)) \n",
        "\n",
        "# Create a dataframe showing actuals, predicted, and propensities \n",
        "y_pred = pd.DataFrame(y_pred)\n",
        "y_pred.reset_index(drop = True , inplace = True)\n",
        "y_test.reset_index(drop = True , inplace = True)\n",
        "results = pd.concat([y_test, y_pred, clf_propensities[1]], axis=1)\n",
        "results.columns= ['Actual','Predicted','Propensity']\n",
        "\n",
        "#Compute percentage of instances with propensities in [lower_limit,upper_limit]\n",
        "upper_limit = 0.7\n",
        "lower_limit = 0.3\n",
        "count = 0\n",
        "for i in range(0,len(clf_propensities[1])):\n",
        "  if((clf_propensities.loc[i,1] >= lower_limit) & (clf_propensities.loc[i,1] <= upper_limit)):\n",
        "    count = count + 1\n",
        "print('Percentage of test instances with propensity in [%1.2f, %1.2f]: %3.2f' % (lower_limit,upper_limit,100 * count/len(clf_propensities[1])))\n",
        "\n",
        "# Show instances where predicted and actual differ\n",
        "print('Instances for which actual and predicted differ:')\n",
        "discrepancies = results.loc[results['Actual'] != results['Predicted']]\n",
        "discrepancies"
      ],
      "metadata": {
        "colab": {
          "base_uri": "https://localhost:8080/",
          "height": 458
        },
        "id": "u0YP_Dm-exLS",
        "outputId": "4d47ac4c-14fe-4921-ebd7-385bd1ca26d7"
      },
      "execution_count": null,
      "outputs": [
        {
          "output_type": "stream",
          "name": "stdout",
          "text": [
            "Percentage of test instances with propensity in [0.30, 0.70]: 5.33\n",
            "Instances for which actual and predicted differ:\n"
          ]
        },
        {
          "output_type": "execute_result",
          "data": {
            "text/html": [
              "\n",
              "  <div id=\"df-4fa93df9-f059-4d8b-b82d-7441bc457fbd\">\n",
              "    <div class=\"colab-df-container\">\n",
              "      <div>\n",
              "<style scoped>\n",
              "    .dataframe tbody tr th:only-of-type {\n",
              "        vertical-align: middle;\n",
              "    }\n",
              "\n",
              "    .dataframe tbody tr th {\n",
              "        vertical-align: top;\n",
              "    }\n",
              "\n",
              "    .dataframe thead th {\n",
              "        text-align: right;\n",
              "    }\n",
              "</style>\n",
              "<table border=\"1\" class=\"dataframe\">\n",
              "  <thead>\n",
              "    <tr style=\"text-align: right;\">\n",
              "      <th></th>\n",
              "      <th>Actual</th>\n",
              "      <th>Predicted</th>\n",
              "      <th>Propensity</th>\n",
              "    </tr>\n",
              "  </thead>\n",
              "  <tbody>\n",
              "    <tr>\n",
              "      <th>0</th>\n",
              "      <td>0</td>\n",
              "      <td>1</td>\n",
              "      <td>0.745084</td>\n",
              "    </tr>\n",
              "    <tr>\n",
              "      <th>2</th>\n",
              "      <td>0</td>\n",
              "      <td>1</td>\n",
              "      <td>0.752501</td>\n",
              "    </tr>\n",
              "    <tr>\n",
              "      <th>9</th>\n",
              "      <td>0</td>\n",
              "      <td>1</td>\n",
              "      <td>0.723817</td>\n",
              "    </tr>\n",
              "    <tr>\n",
              "      <th>11</th>\n",
              "      <td>0</td>\n",
              "      <td>1</td>\n",
              "      <td>0.893100</td>\n",
              "    </tr>\n",
              "    <tr>\n",
              "      <th>13</th>\n",
              "      <td>0</td>\n",
              "      <td>1</td>\n",
              "      <td>0.769340</td>\n",
              "    </tr>\n",
              "    <tr>\n",
              "      <th>...</th>\n",
              "      <td>...</td>\n",
              "      <td>...</td>\n",
              "      <td>...</td>\n",
              "    </tr>\n",
              "    <tr>\n",
              "      <th>376</th>\n",
              "      <td>0</td>\n",
              "      <td>1</td>\n",
              "      <td>0.798108</td>\n",
              "    </tr>\n",
              "    <tr>\n",
              "      <th>380</th>\n",
              "      <td>0</td>\n",
              "      <td>1</td>\n",
              "      <td>0.758037</td>\n",
              "    </tr>\n",
              "    <tr>\n",
              "      <th>382</th>\n",
              "      <td>0</td>\n",
              "      <td>1</td>\n",
              "      <td>0.770938</td>\n",
              "    </tr>\n",
              "    <tr>\n",
              "      <th>396</th>\n",
              "      <td>1</td>\n",
              "      <td>0</td>\n",
              "      <td>0.615266</td>\n",
              "    </tr>\n",
              "    <tr>\n",
              "      <th>412</th>\n",
              "      <td>0</td>\n",
              "      <td>1</td>\n",
              "      <td>0.750385</td>\n",
              "    </tr>\n",
              "  </tbody>\n",
              "</table>\n",
              "<p>136 rows × 3 columns</p>\n",
              "</div>\n",
              "      <button class=\"colab-df-convert\" onclick=\"convertToInteractive('df-4fa93df9-f059-4d8b-b82d-7441bc457fbd')\"\n",
              "              title=\"Convert this dataframe to an interactive table.\"\n",
              "              style=\"display:none;\">\n",
              "        \n",
              "  <svg xmlns=\"http://www.w3.org/2000/svg\" height=\"24px\"viewBox=\"0 0 24 24\"\n",
              "       width=\"24px\">\n",
              "    <path d=\"M0 0h24v24H0V0z\" fill=\"none\"/>\n",
              "    <path d=\"M18.56 5.44l.94 2.06.94-2.06 2.06-.94-2.06-.94-.94-2.06-.94 2.06-2.06.94zm-11 1L8.5 8.5l.94-2.06 2.06-.94-2.06-.94L8.5 2.5l-.94 2.06-2.06.94zm10 10l.94 2.06.94-2.06 2.06-.94-2.06-.94-.94-2.06-.94 2.06-2.06.94z\"/><path d=\"M17.41 7.96l-1.37-1.37c-.4-.4-.92-.59-1.43-.59-.52 0-1.04.2-1.43.59L10.3 9.45l-7.72 7.72c-.78.78-.78 2.05 0 2.83L4 21.41c.39.39.9.59 1.41.59.51 0 1.02-.2 1.41-.59l7.78-7.78 2.81-2.81c.8-.78.8-2.07 0-2.86zM5.41 20L4 18.59l7.72-7.72 1.47 1.35L5.41 20z\"/>\n",
              "  </svg>\n",
              "      </button>\n",
              "      \n",
              "  <style>\n",
              "    .colab-df-container {\n",
              "      display:flex;\n",
              "      flex-wrap:wrap;\n",
              "      gap: 12px;\n",
              "    }\n",
              "\n",
              "    .colab-df-convert {\n",
              "      background-color: #E8F0FE;\n",
              "      border: none;\n",
              "      border-radius: 50%;\n",
              "      cursor: pointer;\n",
              "      display: none;\n",
              "      fill: #1967D2;\n",
              "      height: 32px;\n",
              "      padding: 0 0 0 0;\n",
              "      width: 32px;\n",
              "    }\n",
              "\n",
              "    .colab-df-convert:hover {\n",
              "      background-color: #E2EBFA;\n",
              "      box-shadow: 0px 1px 2px rgba(60, 64, 67, 0.3), 0px 1px 3px 1px rgba(60, 64, 67, 0.15);\n",
              "      fill: #174EA6;\n",
              "    }\n",
              "\n",
              "    [theme=dark] .colab-df-convert {\n",
              "      background-color: #3B4455;\n",
              "      fill: #D2E3FC;\n",
              "    }\n",
              "\n",
              "    [theme=dark] .colab-df-convert:hover {\n",
              "      background-color: #434B5C;\n",
              "      box-shadow: 0px 1px 3px 1px rgba(0, 0, 0, 0.15);\n",
              "      filter: drop-shadow(0px 1px 2px rgba(0, 0, 0, 0.3));\n",
              "      fill: #FFFFFF;\n",
              "    }\n",
              "  </style>\n",
              "\n",
              "      <script>\n",
              "        const buttonEl =\n",
              "          document.querySelector('#df-4fa93df9-f059-4d8b-b82d-7441bc457fbd button.colab-df-convert');\n",
              "        buttonEl.style.display =\n",
              "          google.colab.kernel.accessAllowed ? 'block' : 'none';\n",
              "\n",
              "        async function convertToInteractive(key) {\n",
              "          const element = document.querySelector('#df-4fa93df9-f059-4d8b-b82d-7441bc457fbd');\n",
              "          const dataTable =\n",
              "            await google.colab.kernel.invokeFunction('convertToInteractive',\n",
              "                                                     [key], {});\n",
              "          if (!dataTable) return;\n",
              "\n",
              "          const docLinkHtml = 'Like what you see? Visit the ' +\n",
              "            '<a target=\"_blank\" href=https://colab.research.google.com/notebooks/data_table.ipynb>data table notebook</a>'\n",
              "            + ' to learn more about interactive tables.';\n",
              "          element.innerHTML = '';\n",
              "          dataTable['output_type'] = 'display_data';\n",
              "          await google.colab.output.renderOutput(dataTable, element);\n",
              "          const docLink = document.createElement('div');\n",
              "          docLink.innerHTML = docLinkHtml;\n",
              "          element.appendChild(docLink);\n",
              "        }\n",
              "      </script>\n",
              "    </div>\n",
              "  </div>\n",
              "  "
            ],
            "text/plain": [
              "     Actual  Predicted  Propensity\n",
              "0         0          1    0.745084\n",
              "2         0          1    0.752501\n",
              "9         0          1    0.723817\n",
              "11        0          1    0.893100\n",
              "13        0          1    0.769340\n",
              "..      ...        ...         ...\n",
              "376       0          1    0.798108\n",
              "380       0          1    0.758037\n",
              "382       0          1    0.770938\n",
              "396       1          0    0.615266\n",
              "412       0          1    0.750385\n",
              "\n",
              "[136 rows x 3 columns]"
            ]
          },
          "metadata": {},
          "execution_count": 241
        }
      ]
    }
  ]
}